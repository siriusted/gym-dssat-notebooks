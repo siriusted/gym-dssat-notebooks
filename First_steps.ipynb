{
  "nbformat": 4,
  "nbformat_minor": 0,
  "metadata": {
    "colab": {
      "name": "First_steps.ipynb",
      "provenance": [],
      "collapsed_sections": [],
      "authorship_tag": "ABX9TyNuUvbBNF6QfB2Ev1Pi7+17",
      "include_colab_link": true
    },
    "kernelspec": {
      "name": "python3",
      "display_name": "Python 3"
    },
    "language_info": {
      "name": "python"
    }
  },
  "cells": [
    {
      "cell_type": "markdown",
      "metadata": {
        "id": "view-in-github",
        "colab_type": "text"
      },
      "source": [
        "<a href=\"https://colab.research.google.com/github/siriusted/gym-dssat-notebooks/blob/master/First_steps.ipynb\" target=\"_parent\"><img src=\"https://colab.research.google.com/assets/colab-badge.svg\" alt=\"Open In Colab\"/></a>"
      ]
    },
    {
      "cell_type": "markdown",
      "source": [
        "# First steps with Gym-dssat\n",
        "\n",
        "In this tutorial, we will show how to simply interact with the gym-dssat environment.\n",
        "\n",
        "First, we need to install gym-dssat. This is done in the following code cell. \n",
        "\n",
        "\n",
        "## Installation"
      ],
      "metadata": {
        "id": "SdayZgAUs54F"
      }
    },
    {
      "cell_type": "code",
      "execution_count": null,
      "metadata": {
        "id": "2TAERQcfsxIS"
      },
      "outputs": [],
      "source": [
        "!echo \"deb [ arch=amd64 ] https://raw.githubusercontent.com/pdidev/repo/ubuntu bionic main\" | sudo tee /etc/apt/sources.list.d/pdi.list > /dev/null\n",
        "!wget -O /etc/apt/trusted.gpg.d/pdidev-archive-keyring.gpg https://raw.githubusercontent.com/pdidev/repo/ubuntu/pdidev-archive-keyring.gpg\n",
        "!chmod a+r /etc/apt/trusted.gpg.d/pdidev-archive-keyring.gpg /etc/apt/sources.list.d/pdi.list\n",
        "!apt update &> /dev/null\n",
        "!apt install pdidev-archive-keyring libpdi-dev &> /dev/null\n",
        "\n",
        "!wget  http://gac.udc.es/~emilioj/bionic.tgz\n",
        "!tar -xf bionic.tgz\n",
        "!cd bionic/ && apt install `find . -name \"*.deb\"` &> /dev/null\n",
        "\n",
        "!pip install -U PyYAML &> /dev/null\n",
        "\n",
        "# add newly installed libraries to path\n",
        "import sys\n",
        "sys.path.append('/opt/gym_dssat_pdi/lib/python3.7/site-packages')"
      ]
    },
    {
      "cell_type": "markdown",
      "source": [
        "Now, we're all set up to use gym-dssat!\n",
        "\n",
        "\n",
        "\n",
        "We will interact with the environment using two hardcoded policies:\n",
        "\n",
        "- A null policy\n",
        "- An expert policy\n",
        "\n",
        "and display results of their evaluation.\n",
        "\n",
        "To facilitate this, we define the following helper functions:\n",
        "\n"
      ],
      "metadata": {
        "id": "EobVAQ33t2YS"
      }
    },
    {
      "cell_type": "code",
      "source": [
        "def null_policy(obs):\n",
        "    '''\n",
        "    Do not apply any fertilizer\n",
        "    '''\n",
        "    return { \"anfer\": 0}\n",
        "\n",
        "def expert_policy(obs):\n",
        "    '''\n",
        "    Return fertilization amount based on internal map\n",
        "    and day after planting feature in observation.\n",
        "    '''\n",
        "    fertilization_map = {\n",
        "        40: 27,\n",
        "        45: 35,\n",
        "        80: 54,\n",
        "    }\n",
        "\n",
        "    amount = fertilization_map.get(obs['dap'], 0)\n",
        "    \n",
        "    return { \"anfer\": amount }"
      ],
      "metadata": {
        "id": "p7U8gX2-xZP1"
      },
      "execution_count": null,
      "outputs": []
    },
    {
      "cell_type": "markdown",
      "source": [
        "Here, we instantiate our gym-dssat environment. We will use the fertilization mode..."
      ],
      "metadata": {
        "id": "uHCScdjjz2EW"
      }
    },
    {
      "cell_type": "code",
      "source": [
        "import gym\n",
        "import gym_dssat_pdi\n",
        "\n",
        "env_args = {\n",
        "  'run_dssat_location': '/opt/dssat_pdi/run_dssat',\n",
        "  'mode': 'fertilization',\n",
        "  'seed': 123,\n",
        "  'random_weather': True,\n",
        "}\n",
        "\n",
        "env = gym.make('GymDssatPdi-v0', **env_args)"
      ],
      "metadata": {
        "id": "4ly1cvZvz7m2"
      },
      "execution_count": null,
      "outputs": []
    },
    {
      "cell_type": "markdown",
      "source": [
        "Then, we define an evaluation and a plotting function below which is used to evaluate and visualize the results of our policies..."
      ],
      "metadata": {
        "id": "iMTRaPnNyGcJ"
      }
    },
    {
      "cell_type": "code",
      "source": [
        "import seaborn as sns\n",
        "import pandas as pd\n",
        "import matplotlib.pyplot as plt\n",
        "%matplotlib inline\n",
        "\n",
        "def evaluate(policy, n_episodes=10):\n",
        "    returns = [None] * n_episodes\n",
        "\n",
        "    for episode in range(n_episodes):\n",
        "        done = False\n",
        "        obs = env.reset()\n",
        "        ep_return = 0\n",
        "\n",
        "        while not done:\n",
        "            action = policy(obs)\n",
        "            obs, reward, done, _ = env.step(action)\n",
        "            if reward is not None:\n",
        "                ep_return += reward\n",
        "\n",
        "        returns[episode] = ep_return\n",
        "\n",
        "    return returns\n",
        "\n",
        "\n",
        "def plot_results(data):\n",
        "    data_dict = {}\n",
        "    for label, returns in data:\n",
        "        data_dict[label] = returns\n",
        "    df = pd.DataFrame(data_dict)\n",
        "    \n",
        "    ax = sns.boxplot(data=df)\n",
        "    ax.set_xlabel(\"policy\")\n",
        "    ax.set_ylabel(\"evaluation output\")\n",
        "    plt.show()"
      ],
      "metadata": {
        "id": "SKqfNLWSyPvE"
      },
      "execution_count": null,
      "outputs": []
    },
    {
      "cell_type": "markdown",
      "source": [
        "Evaluate null policy"
      ],
      "metadata": {
        "id": "1JRuiR3UysoE"
      }
    },
    {
      "cell_type": "code",
      "source": [
        "print('Evaluating null policy...')\n",
        "null_returns = evaluate(null_policy)\n",
        "print('Done')"
      ],
      "metadata": {
        "id": "_UHDXp-9C7gK"
      },
      "execution_count": null,
      "outputs": []
    },
    {
      "cell_type": "markdown",
      "source": [
        "Evaluate expert policy"
      ],
      "metadata": {
        "id": "oq2OinyByxgC"
      }
    },
    {
      "cell_type": "code",
      "source": [
        "print('Evaluating expert policy...')\n",
        "expert_returns = evaluate(expert_policy)\n",
        "print('Done')"
      ],
      "metadata": {
        "id": "dc3wK0MuzJB4"
      },
      "execution_count": null,
      "outputs": []
    },
    {
      "cell_type": "markdown",
      "source": [
        "\n",
        "\n",
        "Finally, we display the results..."
      ],
      "metadata": {
        "id": "qtxEAxP7_qHA"
      }
    },
    {
      "cell_type": "code",
      "source": [
        "results = [('null', null_returns), ('expert', expert_returns)]\n",
        "\n",
        "plot_results(results)"
      ],
      "metadata": {
        "id": "ictMUWkG_3nd"
      },
      "execution_count": null,
      "outputs": []
    },
    {
      "cell_type": "markdown",
      "source": [
        "And, there you have it! Now, you can go ahead and keep playing with gym-dssat by editing and re-running the code cells above."
      ],
      "metadata": {
        "id": "RnovcHyVyhlh"
      }
    }
  ]
}