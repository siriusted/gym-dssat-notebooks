{
  "nbformat": 4,
  "nbformat_minor": 0,
  "metadata": {
    "colab": {
      "name": "First_steps.ipynb",
      "provenance": [],
      "collapsed_sections": [],
      "authorship_tag": "ABX9TyNB2WuULW98Km0QGa+JAXlG",
      "include_colab_link": true
    },
    "kernelspec": {
      "name": "python3",
      "display_name": "Python 3"
    },
    "language_info": {
      "name": "python"
    }
  },
  "cells": [
    {
      "cell_type": "markdown",
      "metadata": {
        "id": "view-in-github",
        "colab_type": "text"
      },
      "source": [
        "<a href=\"https://colab.research.google.com/github/siriusted/gym-dssat-notebooks/blob/master/First_steps.ipynb\" target=\"_parent\"><img src=\"https://colab.research.google.com/assets/colab-badge.svg\" alt=\"Open In Colab\"/></a>"
      ]
    },
    {
      "cell_type": "markdown",
      "source": [
        "# First steps with Gym-dssat\n",
        "\n",
        "In this tutorial, we will show how to simply interact with the gym-dssat environment.\n",
        "\n",
        "First, we need to install gym-dssat. This is done in the following code cell. \n",
        "\n",
        "**Note**: It might take a while\n",
        "\n",
        "## Installation"
      ],
      "metadata": {
        "id": "SdayZgAUs54F"
      }
    },
    {
      "cell_type": "code",
      "execution_count": null,
      "metadata": {
        "id": "2TAERQcfsxIS"
      },
      "outputs": [],
      "source": [
        "!wget https://raw.githubusercontent.com/siriusted/gym-dssat-notebooks/master/install.sh\n",
        "!chmod u+x install.sh\n",
        "!./install.sh"
      ]
    },
    {
      "cell_type": "markdown",
      "source": [
        "Now, we're all set up to use gym-dssat!\n",
        "<br/><br/>\n",
        "To be able use gym-dssat properly, we need to run commands using `pdirun`. As a result, the source code for the rest of the tutorial has been collected into a script, which we will fetch next, then run.\n"
      ],
      "metadata": {
        "id": "EobVAQ33t2YS"
      }
    },
    {
      "cell_type": "code",
      "source": [
        "!wget https://raw.githubusercontent.com/siriusted/gym-dssat-notebooks/master/first_steps.py"
      ],
      "metadata": {
        "id": "_UHDXp-9C7gK"
      },
      "execution_count": null,
      "outputs": []
    },
    {
      "cell_type": "markdown",
      "source": [
        "Run example. You can take a look at `first_steps.py` in the file browser here on colab"
      ],
      "metadata": {
        "id": "nb5nUQGEK77Q"
      }
    },
    {
      "cell_type": "code",
      "source": [
        "!/opt/pdi/bin/pdirun python first_steps.py"
      ],
      "metadata": {
        "id": "au7f24E7ulCP"
      },
      "execution_count": null,
      "outputs": []
    },
    {
      "cell_type": "markdown",
      "source": [
        "The results of the script have been written into `results.pkl`. \n",
        "\n",
        "Next, we will load and display the results."
      ],
      "metadata": {
        "id": "qtxEAxP7_qHA"
      }
    },
    {
      "cell_type": "code",
      "source": [
        "import pickle\n",
        "import seaborn as sns\n",
        "import pandas as pd\n",
        "import matplotlib.pyplot as plt\n",
        "\n",
        "def plot_results(data):\n",
        "    data_dict = {}\n",
        "    for label, returns in data:\n",
        "        data_dict[label] = returns\n",
        "    df = pd.DataFrame(data_dict)\n",
        "    \n",
        "    ax = sns.boxplot(data=df)\n",
        "    ax.set_xlabel(\"policy\")\n",
        "    ax.set_ylabel(\"evaluation output\")\n",
        "    plt.show()\n",
        "\n",
        "with open(\"results.pkl\", \"rb\") as result_file:\n",
        "    results = pickle.load(result_file)"
      ],
      "metadata": {
        "id": "ictMUWkG_3nd"
      },
      "execution_count": null,
      "outputs": []
    },
    {
      "cell_type": "code",
      "source": [
        "plot_results(results)"
      ],
      "metadata": {
        "id": "mwC3gpDMAQte"
      },
      "execution_count": null,
      "outputs": []
    },
    {
      "cell_type": "markdown",
      "source": [
        "And, there you have it! Now, you can go ahead and keep playing with gym-dssat by editing `first_steps.py` and re-running the code cell above."
      ],
      "metadata": {
        "id": "RnovcHyVyhlh"
      }
    }
  ]
}