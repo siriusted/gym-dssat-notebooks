{
  "nbformat": 4,
  "nbformat_minor": 0,
  "metadata": {
    "colab": {
      "name": "First_steps.ipynb",
      "provenance": [],
      "collapsed_sections": [],
      "authorship_tag": "ABX9TyNJv+77tWzJQ87IBXdinn1t",
      "include_colab_link": true
    },
    "kernelspec": {
      "name": "python3",
      "display_name": "Python 3"
    },
    "language_info": {
      "name": "python"
    }
  },
  "cells": [
    {
      "cell_type": "markdown",
      "metadata": {
        "id": "view-in-github",
        "colab_type": "text"
      },
      "source": [
        "<a href=\"https://colab.research.google.com/github/siriusted/gym-dssat-notebooks/blob/master/First_steps.ipynb\" target=\"_parent\"><img src=\"https://colab.research.google.com/assets/colab-badge.svg\" alt=\"Open In Colab\"/></a>"
      ]
    },
    {
      "cell_type": "markdown",
      "source": [
        "# First steps with Gym-dssat\n",
        "\n",
        "In this tutorial, we will show how to simply interact with the gym-dssat environment.\n",
        "\n",
        "First, we need to install gym-dssat. This is done in the following code cell. \n",
        "\n",
        "**Note**: It might take a while\n",
        "\n",
        "## Installation"
      ],
      "metadata": {
        "id": "SdayZgAUs54F"
      }
    },
    {
      "cell_type": "code",
      "execution_count": null,
      "metadata": {
        "id": "2TAERQcfsxIS"
      },
      "outputs": [],
      "source": [
        "# install system dependencies\n",
        "!apt-get update &> /dev/null\n",
        "!apt-get install python3.7-dev python3.7-venv &> /dev/null\n",
        "!wget http://pyyaml.org/download/libyaml/yaml-0.2.5.tar.gz &> /dev/null\n",
        "!tar -xf yaml-0.2.5.tar.gz &> /dev/null \n",
        "!cd yaml-0.2.5 && ./configure &> /dev/null && make &> /dev/null && make install &> /dev/null\n",
        "\n",
        "\n",
        "# install pip dependencies \n",
        "# only need gym==0.18.3, pyyaml > 5.1\n",
        "!pip install gym==0.18.3 &> /dev/null\n",
        "!pip install -U PyYAML &> /dev/null\n",
        "\n",
        "\n",
        "# install pdi\n",
        "!git clone https://gitlab.maisondelasimulation.fr/pdidev/pdi.git &> /dev/null\n",
        "!mkdir pdi/build && cd pdi/build && cmake -DCMAKE_INSTALL_PREFIX='/opt/pdi' \\\n",
        "    -DDIST_PROFILE=User \\\n",
        "    -DCMAKE_VERBOSE_MAKEFILE=ON \\\n",
        "    -DBUILD_CFG_VALIDATOR=OFF \\\n",
        "    -DBUILD_DECL_HDF5_PLUGIN=OFF \\\n",
        "    -DBUILD_DECL_NETCDF_PLUGIN=OFF \\\n",
        "    -DBUILD_DECL_SION_PLUGIN=OFF \\\n",
        "    -DBUILD_FLOWVR_PLUGIN=OFF \\\n",
        "    -DBUILD_FORTRAN=ON \\\n",
        "    -DBUILD_FTI_PLUGIN=OFF \\\n",
        "    -DBUILD_HDF5_PARALLEL=OFF \\\n",
        "    -DBUILD_MPI_PLUGIN=OFF \\\n",
        "    -DBUILD_PYCALL_PLUGIN=ON \\\n",
        "    -DBUILD_PYTHON=ON \\\n",
        "    -DBUILD_SET_VALUE_PLUGIN=ON \\\n",
        "    -DBUILD_SERIALIZE_PLUGIN=ON \\\n",
        "    -DBUILD_SHARED_LIBS=ON \\\n",
        "    -DBUILD_TEST_PLUGIN=OFF \\\n",
        "    -DBUILD_TRACE_PLUGIN=ON \\\n",
        "    -DBUILD_USER_CODE_PLUGIN=ON \\\n",
        "    -DUSE_DEFAULT=EMBEDDED .. &> /dev/null\n",
        "\n",
        "!cd pdi/build && make install &> /dev/null\n",
        "\n",
        "\n",
        "# install dssat-pdi\n",
        "!git clone --recurse-submodules https://gitlab.inria.fr/rgautron/gym_dssat_pdi.git &> /dev/null\n",
        "!cd gym_dssat_pdi/dssat-csm-os && mkdir build && cd build \\\n",
        "    && cmake -DCMAKE_INSTALL_PREFIX='/opt/dssat_pdi' -DUSE_DEFAULT=EMBEDDED -DCMAKE_PREFIX_PATH='/opt/pdi/share/paraconf/cmake;/opt/pdi/share/pdi/cmake' .. &> /dev/null\n",
        "!cd gym_dssat_pdi/dssat-csm-os/build && make &> /dev/null && make install &> /dev/null\n",
        "!cd gym_dssat_pdi/dssat-csm-data &&  cp -r ./* /opt/dssat_pdi\n",
        "\n",
        "\n",
        "# install gym-dssat\n",
        "!cd gym_dssat_pdi/gym-dssat-pdi/ && pip install -e . &> /dev/null"
      ]
    },
    {
      "cell_type": "markdown",
      "source": [
        "Now, we're all set up to use gym-dssat!\n",
        "<br/><br/>\n",
        "To be able use gym-dssat properly, we need to run commands using `pdirun`. As a result, the source code for the rest of the tutorial has been collected into a script, which we will fetch next, then run.\n"
      ],
      "metadata": {
        "id": "EobVAQ33t2YS"
      }
    },
    {
      "cell_type": "code",
      "source": [
        "!wget https://raw.githubusercontent.com/siriusted/gym-dssat-notebooks/master/first_steps.py"
      ],
      "metadata": {
        "id": "_UHDXp-9C7gK"
      },
      "execution_count": null,
      "outputs": []
    },
    {
      "cell_type": "markdown",
      "source": [
        "Run example. You can take a look at `first_steps.py` in the file browser here on colab"
      ],
      "metadata": {
        "id": "nb5nUQGEK77Q"
      }
    },
    {
      "cell_type": "code",
      "source": [
        "!/opt/pdi/bin/pdirun python first_steps.py"
      ],
      "metadata": {
        "id": "au7f24E7ulCP"
      },
      "execution_count": null,
      "outputs": []
    },
    {
      "cell_type": "markdown",
      "source": [
        "And, there you have it! Now, you can go ahead and keep playing with gym-dssat by editing `first_steps.py` and re-running the code cell above."
      ],
      "metadata": {
        "id": "RnovcHyVyhlh"
      }
    }
  ]
}