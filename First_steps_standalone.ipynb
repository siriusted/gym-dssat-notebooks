{
 "cells": [
  {
   "cell_type": "markdown",
   "metadata": {
    "id": "SdayZgAUs54F"
   },
   "source": [
    "# First steps with Gym-dssat\n",
    "\n",
    "In this tutorial, we will show how to simply interact with the gym-dssat environment."
   ]
  },
  {
   "cell_type": "code",
   "execution_count": null,
   "metadata": {
    "id": "au7f24E7ulCP"
   },
   "outputs": [],
   "source": [
    "import gym\n",
    "import gym_dssat_pdi\n",
    "import seaborn as sns\n",
    "import matplotlib.pyplot as plt\n",
    "import pandas as pd"
   ]
  },
  {
   "cell_type": "markdown",
   "metadata": {
    "id": "GX5mq753uthJ"
   },
   "source": [
    "Next, we instantiate the environment. Here, we will use the fertilization mode..."
   ]
  },
  {
   "cell_type": "code",
   "execution_count": null,
   "metadata": {
    "id": "a_MYzjAYuN2u"
   },
   "outputs": [],
   "source": [
    "# create env\n",
    "env_args = {\n",
    "  'run_dssat_location': '/opt/dssat_pdi/run_dssat',\n",
    "  'mode': 'fertilization',\n",
    "  'seed': 123,\n",
    "  'random_weather': True,\n",
    "}\n",
    "\n",
    "env = gym.make('GymDssatPdi-v0', **env_args)"
   ]
  },
  {
   "cell_type": "markdown",
   "metadata": {
    "id": "2VXPRNcuvlpX"
   },
   "source": [
    "Now, we can interact with our environment. We will do this with two hardcoded policies:\n",
    "- A null policy\n",
    "- An expert policy\n",
    "\n",
    "and display results of their evaluation.\n",
    "\n",
    "To facilitate this, we define the following helper functions:"
   ]
  },
  {
   "cell_type": "code",
   "execution_count": null,
   "metadata": {
    "id": "-l0xq2r-wTHi"
   },
   "outputs": [],
   "source": [
    "def null_policy(obs):\n",
    "    '''\n",
    "    Do not apply any fertilizer\n",
    "    '''\n",
    "    return { \"anfer\": 0}\n",
    "\n",
    "def expert_policy(obs):\n",
    "    '''\n",
    "    Return fertilization amount based on internal map\n",
    "    and day after planting feature in observation.\n",
    "    '''\n",
    "    fertilization_map = {\n",
    "        40: 27,\n",
    "        45: 35,\n",
    "        80: 54,\n",
    "    }\n",
    "\n",
    "    amount = fertilization_map.get(obs['dap'], 0)\n",
    "    \n",
    "    return { \"anfer\": amount }\n",
    "\n",
    "\n",
    "def evaluate(policy, n_episodes=10):\n",
    "    returns = [None] * n_episodes\n",
    "\n",
    "    for episode in range(n_episodes):\n",
    "        done = False\n",
    "        obs = env.reset()\n",
    "        ep_return = 0\n",
    "\n",
    "        while not done:\n",
    "            action = policy(obs)\n",
    "            obs, reward, done, _ = env.step(action)\n",
    "            if reward is not None:\n",
    "                ep_return += reward\n",
    "\n",
    "        # sanity check REMOVE THIS IN FINAL TUTORIAL\n",
    "        assert ep_return == sum(env._history['reward']), \"Computed return doesn't match internal history of rewards\"\n",
    "\n",
    "        returns[episode] = ep_return\n",
    "\n",
    "    return returns\n",
    "\n",
    "def plot_results(labels, returns):\n",
    "    data_dict = {}\n",
    "    for label, data in zip(labels, returns):\n",
    "        data_dict[label] = data\n",
    "    df = pd.DataFrame(data_dict)\n",
    "    \n",
    "    ax = sns.boxplot(data=df)\n",
    "    ax.set_xlabel(\"policy\")\n",
    "    ax.set_ylabel(\"evaluation output\")\n",
    "    plt.savefig('results.pdf')\n",
    "    plt.show()"
   ]
  },
  {
   "cell_type": "markdown",
   "metadata": {
    "id": "Dv8FnHgExL3F"
   },
   "source": [
    "Evaluate null policy"
   ]
  },
  {
   "cell_type": "code",
   "execution_count": null,
   "metadata": {
    "id": "Ig5SbgDfxgr_"
   },
   "outputs": [],
   "source": [
    "null_returns = evaluate(null_policy)"
   ]
  },
  {
   "cell_type": "markdown",
   "metadata": {
    "id": "hO7B52Adx8Hw"
   },
   "source": [
    "Evaluate expert policy"
   ]
  },
  {
   "cell_type": "code",
   "execution_count": null,
   "metadata": {
    "id": "NzqFR1nmx-eL"
   },
   "outputs": [],
   "source": [
    "expert_returns = evaluate(expert_policy)"
   ]
  },
  {
   "cell_type": "markdown",
   "metadata": {
    "id": "qLwMz8vIyE7n"
   },
   "source": [
    "Finally, we display the results in the following plot. A copy is also saved as `results.pdf` in the current working directory"
   ]
  },
  {
   "cell_type": "code",
   "execution_count": null,
   "metadata": {
    "id": "tNzVei8oyMvy"
   },
   "outputs": [],
   "source": [
    "labels = ['null', 'expert']\n",
    "returns = [null_returns, expert_returns]\n",
    "plot_results(labels, returns)"
   ]
  },
  {
   "cell_type": "markdown",
   "metadata": {
    "id": "RnovcHyVyhlh"
   },
   "source": [
    "And, there you have it! Now, you can go ahead and keep playing with gym-dssat.\n",
    "<br/><br/>\n",
    "When done, close the environment"
   ]
  },
  {
   "cell_type": "code",
   "execution_count": null,
   "metadata": {},
   "outputs": [],
   "source": [
    "env.close()"
   ]
  }
 ],
 "metadata": {
  "colab": {
   "collapsed_sections": [],
   "name": "First_steps.ipynb",
   "provenance": []
  },
  "kernelspec": {
   "display_name": "Python 3 (ipykernel)",
   "language": "python",
   "name": "python3"
  },
  "language_info": {
   "codemirror_mode": {
    "name": "ipython",
    "version": 3
   },
   "file_extension": ".py",
   "mimetype": "text/x-python",
   "name": "python",
   "nbconvert_exporter": "python",
   "pygments_lexer": "ipython3",
   "version": "3.8.12"
  }
 },
 "nbformat": 4,
 "nbformat_minor": 1
}
