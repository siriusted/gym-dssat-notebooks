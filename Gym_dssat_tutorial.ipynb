{
  "nbformat": 4,
  "nbformat_minor": 0,
  "metadata": {
    "colab": {
      "name": "Gym_dssat_tutorial.ipynb",
      "provenance": [],
      "collapsed_sections": [],
      "authorship_tag": "ABX9TyO6nJCFXjocuqo/sL/oo2dy",
      "include_colab_link": true
    },
    "kernelspec": {
      "name": "python3",
      "display_name": "Python 3"
    },
    "language_info": {
      "name": "python"
    }
  },
  "cells": [
    {
      "cell_type": "markdown",
      "metadata": {
        "id": "view-in-github",
        "colab_type": "text"
      },
      "source": [
        "<a href=\"https://colab.research.google.com/github/siriusted/gym-dssat-notebooks/blob/master/Gym_dssat_tutorial.ipynb\" target=\"_parent\"><img src=\"https://colab.research.google.com/assets/colab-badge.svg\" alt=\"Open In Colab\"/></a>"
      ]
    },
    {
      "cell_type": "markdown",
      "source": [
        "# Gym-DSSAT Tutorial\n",
        "\n",
        "Welcome to a brief introduction to using gym-dssat with stable-baselines3.\n",
        "\n",
        "For a background or more details about using stable-baselines3 for reinforcement learning, please take a look [here](https://github.com/araffin/rl-tutorial-jnrr19/tree/sb3)\n",
        "\n",
        "In this notebook, we will assume familiarity with reinforcement learning and stable-baselines3. Thus the focus is on interacting with gym-dssat using SB3.\n",
        "\n",
        "# Dependencies\n",
        "The list of dependencies for this tutorial are:\n",
        "- gym-dssat\n",
        "- stable-baselines3\n",
        "\n",
        "Since Colab hasn't upgraded from Ubuntu 18.04 as of today (Jan. 7th, 2022) (related [issue](https://github.com/googlecolab/colabtools/issues/1880)), we will need to follow the installation procedure from source listed [here](https://rgautron.gitlabpages.inria.fr/gym-dssat-docs/Installation/source.html)\n",
        "# Installation"
      ],
      "metadata": {
        "id": "vKepy5lNtgN6"
      }
    },
    {
      "cell_type": "code",
      "source": [
        "# install system dependencies\n",
        "!apt-get update &> /dev/null\n",
        "!apt-get install python3.7-dev python3.7-venv &> /dev/null\n",
        "!wget http://pyyaml.org/download/libyaml/yaml-0.2.5.tar.gz &> /dev/null\n",
        "!tar -xf yaml-0.2.5.tar.gz &> /dev/null \n",
        "!cd yaml-0.2.5 && ./configure &> /dev/null && make &> /dev/null && make install &> /dev/null\n",
        "\n",
        "\n",
        "# install pip dependencies \n",
        "# only need gym==0.18.3, pyyaml > 5.1\n",
        "!pip install gym==0.18.3 &> /dev/null\n",
        "!pip install -U PyYAML &> /dev/null\n",
        "\n",
        "\n",
        "# install pdi\n",
        "!git clone https://gitlab.maisondelasimulation.fr/pdidev/pdi.git &> /dev/null\n",
        "!mkdir pdi/build && cd pdi/build && cmake -DCMAKE_INSTALL_PREFIX='/opt/pdi' \\\n",
        "    -DDIST_PROFILE=User \\\n",
        "    -DCMAKE_VERBOSE_MAKEFILE=ON \\\n",
        "    -DBUILD_CFG_VALIDATOR=OFF \\\n",
        "    -DBUILD_DECL_HDF5_PLUGIN=OFF \\\n",
        "    -DBUILD_DECL_NETCDF_PLUGIN=OFF \\\n",
        "    -DBUILD_DECL_SION_PLUGIN=OFF \\\n",
        "    -DBUILD_FLOWVR_PLUGIN=OFF \\\n",
        "    -DBUILD_FORTRAN=ON \\\n",
        "    -DBUILD_FTI_PLUGIN=OFF \\\n",
        "    -DBUILD_HDF5_PARALLEL=OFF \\\n",
        "    -DBUILD_MPI_PLUGIN=OFF \\\n",
        "    -DBUILD_PYCALL_PLUGIN=ON \\\n",
        "    -DBUILD_PYTHON=ON \\\n",
        "    -DBUILD_SET_VALUE_PLUGIN=ON \\\n",
        "    -DBUILD_SERIALIZE_PLUGIN=ON \\\n",
        "    -DBUILD_SHARED_LIBS=ON \\\n",
        "    -DBUILD_TEST_PLUGIN=OFF \\\n",
        "    -DBUILD_TRACE_PLUGIN=ON \\\n",
        "    -DBUILD_USER_CODE_PLUGIN=ON \\\n",
        "    -DUSE_DEFAULT=EMBEDDED .. &> /dev/null\n",
        "\n",
        "!cd pdi/build && make install &> /dev/null\n",
        "\n",
        "\n",
        "# install dssat-pdi\n",
        "!git clone --recurse-submodules https://gitlab.inria.fr/rgautron/gym_dssat_pdi.git &> /dev/null\n",
        "!cd gym_dssat_pdi/dssat-csm-os && mkdir build && cd build \\\n",
        "    && cmake -DCMAKE_INSTALL_PREFIX='/opt/dssat_pdi' -DUSE_DEFAULT=EMBEDDED -DCMAKE_PREFIX_PATH='/opt/pdi/share/paraconf/cmake;/opt/pdi/share/pdi/cmake' .. &> /dev/null\n",
        "!cd gym_dssat_pdi/dssat-csm-os/build && make &> /dev/null && make install &> /dev/null\n",
        "!cd gym_dssat_pdi/dssat-csm-data &&  cp -r ./* /opt/dssat_pdi\n",
        "\n",
        "\n",
        "# install gym-dssat\n",
        "!cd gym_dssat_pdi/gym-dssat-pdi/ && pip install -e . &> /dev/null"
      ],
      "metadata": {
        "id": "GOx-nPDLljcA"
      },
      "execution_count": 1,
      "outputs": []
    },
    {
      "cell_type": "code",
      "source": [
        "!/opt/pdi/bin/pdirun python gym_dssat_pdi/gym-dssat-pdi/gym_dssat_pdi_samples/run_env.py"
      ],
      "metadata": {
        "colab": {
          "base_uri": "https://localhost:8080/"
        },
        "id": "fjfcbGHQBSUy",
        "outputId": "d0e20302-a9ad-47f7-9a93-d44d51137a5d"
      },
      "execution_count": 2,
      "outputs": [
        {
          "output_type": "stream",
          "name": "stdout",
          "text": [
            "Environment loaded for PDI version 1.5.0-alpha.2021-12-04.4a0ebfc\n",
            "10/16\n",
            "mean of yields: 3546.4873127808196 kg/ha\n",
            "variance of yields: 1695141.161077537 kg/ha\n"
          ]
        }
      ]
    },
    {
      "cell_type": "code",
      "source": [
        "# import gym\n",
        "# import gym_dssat_pdi\n",
        "\n",
        "# env_args = {\n",
        "#     'run_dssat_location': '/opt/dssat_pdi/run_dssat',  # assuming (modified) DSSAT has been installed in /opt/dssat_pdi\n",
        "#     'log_saving_path': './logs/dssat-pdi.log',  # if you want to save DSSAT outputs for inspection\n",
        "#     # 'mode': 'irrigation',  # you can choose one of those 3 modes\n",
        "#     # 'mode': 'fertilization',\n",
        "#     'mode': 'all',\n",
        "#     'seed': 123456,\n",
        "#     'random_weather': True,  # if you want stochastic weather\n",
        "# }\n",
        "# env = gym.make('gym_dssat_pdi:GymDssatPdi-v0', **env_args)"
      ],
      "metadata": {
        "id": "3OQM-z5HG3xp"
      },
      "execution_count": 26,
      "outputs": []
    },
    {
      "cell_type": "code",
      "source": [
        "!/opt/pdi/bin/pdirun python -c 'import gym;import gym_dssat_pdi;env_args={\"run_dssat_location\": \"/opt/dssat_pdi/run_dssat\", \"mode\": \"all\", \"seed\": 123456, \"random_weather\": True}; env = gym.make(\"GymDssatPdi-v0\", **env_args); print(env.observation_dict_to_array(env.observation))'\n"
      ],
      "metadata": {
        "colab": {
          "base_uri": "https://localhost:8080/"
        },
        "id": "zxfGZFV8RMkO",
        "outputId": "76970705-b37d-40c3-8a5f-03a492ce2edd"
      },
      "execution_count": 25,
      "outputs": [
        {
          "output_type": "stream",
          "name": "stdout",
          "text": [
            "Environment loaded for PDI version 1.5.0-alpha.2021-12-04.4a0ebfc\n",
            "[ 0.          0.          0.          0.          0.          0.\n",
            "  0.          7.          0.          0.          7.19999981  0.\n",
            "  0.          0.         13.286026    0.086       0.086       0.086\n",
            "  0.086       0.086       0.076       0.076       0.13        0.25799999\n",
            "  0.          0.         23.53242874  7.09910393  0.          0.\n",
            "  0.          0.          0.          0.          0.        ]\n"
          ]
        }
      ]
    },
    {
      "cell_type": "code",
      "source": [
        ""
      ],
      "metadata": {
        "id": "xO9T_uGsZ4SF"
      },
      "execution_count": null,
      "outputs": []
    }
  ]
}