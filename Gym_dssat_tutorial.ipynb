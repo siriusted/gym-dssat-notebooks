{
  "nbformat": 4,
  "nbformat_minor": 0,
  "metadata": {
    "colab": {
      "name": "Gym_dssat_tutorial.ipynb",
      "provenance": [],
      "authorship_tag": "ABX9TyMICptW346COpxioBLGxb0x",
      "include_colab_link": true
    },
    "kernelspec": {
      "name": "python3",
      "display_name": "Python 3"
    },
    "language_info": {
      "name": "python"
    }
  },
  "cells": [
    {
      "cell_type": "markdown",
      "metadata": {
        "id": "view-in-github",
        "colab_type": "text"
      },
      "source": [
        "<a href=\"https://colab.research.google.com/github/siriusted/gym-dssat-notebooks/blob/master/Gym_dssat_tutorial.ipynb\" target=\"_parent\"><img src=\"https://colab.research.google.com/assets/colab-badge.svg\" alt=\"Open In Colab\"/></a>"
      ]
    },
    {
      "cell_type": "markdown",
      "source": [
        "# Gym-DSSAT Tutorial\n",
        "\n",
        "Welcome to a brief introduction to using gym-dssat with stable-baselines3.\n",
        "\n",
        "For a background or more details about using stable-baselines3 for reinforcement learning, please take a look [here](https://github.com/araffin/rl-tutorial-jnrr19/tree/sb3)\n",
        "\n",
        "In this notebook, we will assume familiarity with reinforcement learning and stable-baselines3. Thus the focus is on interacting with gym-dssat using SB3.\n",
        "\n",
        "# Dependencies\n",
        "The list of dependencies for this tutorial are:\n",
        "- gym-dssat\n",
        "- stable-baselines3\n",
        "\n",
        "To install gym-dssat, we will follow the procedure outlined [here](https://rgautron.gitlabpages.inria.fr/gym-dssat-docs/Installation/packages.html)\n",
        "\n",
        "Since this requires at least Ubuntu 20.04 and Colab hasn't upgrade from Ubuntu 18.04 as of today (Jan. 7th, 2022) (related [issue](https://github.com/googlecolab/colabtools/issues/1880)), the first step will be to upgrade the colab instance to ubuntu 20.04 as follows \n",
        "\n",
        "# OS upgrade"
      ],
      "metadata": {
        "id": "vKepy5lNtgN6"
      }
    },
    {
      "cell_type": "code",
      "source": [
        "!lsb_release -d"
      ],
      "metadata": {
        "colab": {
          "base_uri": "https://localhost:8080/"
        },
        "id": "gfyCbNt5wD9Y",
        "outputId": "158ea758-fb58-4d10-9a0b-0b4561562a5c"
      },
      "execution_count": 1,
      "outputs": [
        {
          "output_type": "stream",
          "name": "stdout",
          "text": [
            "Description:\tUbuntu 18.04.5 LTS\n"
          ]
        }
      ]
    },
    {
      "cell_type": "code",
      "source": [
        "!sudo apt-mark unhold libcublas-dev && sudo apt-mark unhold libcublas10 && sudo apt-mark unhold libcudnn7 && sudo apt-mark unhold libcudnn7-dev && sudo apt-mark unhold libnccl-dev && sudo apt-mark unhold libnccl2\n",
        "\n",
        "!sudo apt-get update\n",
        "\n",
        "!sudo apt-get upgrade -y\n",
        "\n",
        "!sudo apt-get dist-upgrade\n",
        "\n",
        "!sudo apt install update-manager-core\n",
        "\n",
        "!sudo do-release-upgrade\n"
      ],
      "metadata": {
        "id": "rMJudyYb3Ptv"
      },
      "execution_count": null,
      "outputs": []
    },
    {
      "cell_type": "code",
      "source": [
        "!sudo apt update\n",
        "!sudo apt upgrade\n",
        "!sudo apt dist-upgrade\n",
        "!sudo do-release-upgrade"
      ],
      "metadata": {
        "id": "jjSq97R_6JcU"
      },
      "execution_count": null,
      "outputs": []
    },
    {
      "cell_type": "code",
      "source": [
        "!sudo apt remove libcudnn8 libcudnn8-dev --allow-change-held-packages"
      ],
      "metadata": {
        "colab": {
          "base_uri": "https://localhost:8080/"
        },
        "id": "5qFxluGJ6VEr",
        "outputId": "9c5a855c-9f04-4038-d81a-6ddf13b0f775"
      },
      "execution_count": 7,
      "outputs": [
        {
          "output_type": "stream",
          "name": "stdout",
          "text": [
            "Reading package lists... Done\n",
            "Building dependency tree       \n",
            "Reading state information... Done\n",
            "The following packages will be REMOVED:\n",
            "  libcudnn8 libcudnn8-dev\n",
            "The following held packages will be changed:\n",
            "  libcudnn8\n",
            "0 upgraded, 0 newly installed, 2 to remove and 0 not upgraded.\n",
            "After this operation, 4,567 MB disk space will be freed.\n",
            "(Reading database ... 155365 files and directories currently installed.)\n",
            "Removing libcudnn8-dev (8.0.5.39-1+cuda11.1) ...\n",
            "Removing libcudnn8 (8.0.5.39-1+cuda11.1) ...\n"
          ]
        }
      ]
    },
    {
      "cell_type": "code",
      "source": [
        "!sudo apt update\n",
        "!sudo apt upgrade\n",
        "!sudo apt dist-upgrade\n",
        "!sudo do-release-upgrade"
      ],
      "metadata": {
        "id": "T2vSIfRR6Veq"
      },
      "execution_count": null,
      "outputs": []
    },
    {
      "cell_type": "code",
      "source": [
        "!sudo apt-get install --reinstall python3"
      ],
      "metadata": {
        "id": "qgnxS1U__LRl"
      },
      "execution_count": null,
      "outputs": []
    },
    {
      "cell_type": "code",
      "source": [
        "!sudo do-release-upgrade"
      ],
      "metadata": {
        "id": "ff5uY65e_Rgl"
      },
      "execution_count": null,
      "outputs": []
    },
    {
      "cell_type": "code",
      "source": [
        "!sudo ln -sf /usr/bin/python3.6 /usr/bin/python3"
      ],
      "metadata": {
        "id": "GYhNOiol_ha4"
      },
      "execution_count": 11,
      "outputs": []
    },
    {
      "cell_type": "code",
      "execution_count": null,
      "metadata": {
        "id": "s_Wsfor3mrNX"
      },
      "outputs": [],
      "source": [
        "!pip install stable-baselines3[extra]"
      ]
    },
    {
      "cell_type": "code",
      "source": [
        "!echo \"deb [ arch=amd64 ] https://raw.githubusercontent.com/pdidev/repo/ubuntu focal main\" | tee /etc/apt/sources.list.d/pdi.list > /dev/null\n",
        "!wget -O /etc/apt/trusted.gpg.d/pdidev-archive-keyring.gpg https://raw.githubusercontent.com/pdidev/repo/ubuntu/pdidev-archive-keyring.gpg\n",
        "!chmod a+r /etc/apt/trusted.gpg.d/pdidev-archive-keyring.gpg /etc/apt/sources.list.d/pdi.list\n",
        "!apt update\n",
        "!apt install pdidev-archive-keyring"
      ],
      "metadata": {
        "id": "nJb34oYjyUz0"
      },
      "execution_count": null,
      "outputs": []
    },
    {
      "cell_type": "code",
      "source": [
        "!wget https://gac.udc.es/~emilioj/focal.tgz\n",
        "!tar -xf focal.tgz\n",
        "!cd focal && apt install `find . -name \"*.deb\"`"
      ],
      "metadata": {
        "id": "s0oxNxF9yktN"
      },
      "execution_count": null,
      "outputs": []
    },
    {
      "cell_type": "code",
      "source": [
        "!cd focal && find . -name \"*.deb\""
      ],
      "metadata": {
        "id": "XgH1TBtVzAkU"
      },
      "execution_count": null,
      "outputs": []
    },
    {
      "cell_type": "code",
      "source": [
        ""
      ],
      "metadata": {
        "id": "f9-_mvYyzN7W"
      },
      "execution_count": null,
      "outputs": []
    }
  ]
}