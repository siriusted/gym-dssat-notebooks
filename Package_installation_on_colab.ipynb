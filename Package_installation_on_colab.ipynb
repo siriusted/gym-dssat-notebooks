{
  "nbformat": 4,
  "nbformat_minor": 0,
  "metadata": {
    "colab": {
      "name": "Package installation on colab",
      "provenance": [],
      "authorship_tag": "ABX9TyOczkFnU9GT1/Zt7wKO6vrP",
      "include_colab_link": true
    },
    "kernelspec": {
      "name": "python3",
      "display_name": "Python 3"
    },
    "language_info": {
      "name": "python"
    }
  },
  "cells": [
    {
      "cell_type": "markdown",
      "metadata": {
        "id": "view-in-github",
        "colab_type": "text"
      },
      "source": [
        "<a href=\"https://colab.research.google.com/github/siriusted/gym-dssat-notebooks/blob/master/Package_installation_on_colab.ipynb\" target=\"_parent\"><img src=\"https://colab.research.google.com/assets/colab-badge.svg\" alt=\"Open In Colab\"/></a>"
      ]
    },
    {
      "cell_type": "code",
      "execution_count": 1,
      "metadata": {
        "id": "0EO6mXlZLpKH",
        "outputId": "3e326bd7-863c-440c-e43c-e8d3fed3d150",
        "colab": {
          "base_uri": "https://localhost:8080/"
        }
      },
      "outputs": [
        {
          "output_type": "stream",
          "name": "stdout",
          "text": [
            "--2022-03-10 12:42:59--  https://raw.githubusercontent.com/pdidev/repo/ubuntu/pdidev-archive-keyring.gpg\n",
            "Resolving raw.githubusercontent.com (raw.githubusercontent.com)... 185.199.110.133, 185.199.109.133, 185.199.111.133, ...\n",
            "Connecting to raw.githubusercontent.com (raw.githubusercontent.com)|185.199.110.133|:443... connected.\n",
            "HTTP request sent, awaiting response... 200 OK\n",
            "Length: 1753 (1.7K) [application/octet-stream]\n",
            "Saving to: ‘/etc/apt/trusted.gpg.d/pdidev-archive-keyring.gpg’\n",
            "\n",
            "\r          /etc/apt/   0%[                    ]       0  --.-KB/s               \r/etc/apt/trusted.gp 100%[===================>]   1.71K  --.-KB/s    in 0s      \n",
            "\n",
            "2022-03-10 12:42:59 (24.6 MB/s) - ‘/etc/apt/trusted.gpg.d/pdidev-archive-keyring.gpg’ saved [1753/1753]\n",
            "\n",
            "Get:1 https://cloud.r-project.org/bin/linux/ubuntu bionic-cran40/ InRelease [3,626 B]\n",
            "Ign:2 https://developer.download.nvidia.com/compute/cuda/repos/ubuntu1804/x86_64  InRelease\n",
            "Get:3 https://raw.githubusercontent.com/pdidev/repo/ubuntu bionic InRelease [5,858 B]\n",
            "Ign:4 https://developer.download.nvidia.com/compute/machine-learning/repos/ubuntu1804/x86_64  InRelease\n",
            "Hit:5 https://developer.download.nvidia.com/compute/cuda/repos/ubuntu1804/x86_64  Release\n",
            "Hit:6 https://developer.download.nvidia.com/compute/machine-learning/repos/ubuntu1804/x86_64  Release\n",
            "Get:7 http://security.ubuntu.com/ubuntu bionic-security InRelease [88.7 kB]\n",
            "Hit:8 http://ppa.launchpad.net/c2d4u.team/c2d4u4.0+/ubuntu bionic InRelease\n",
            "Hit:9 http://archive.ubuntu.com/ubuntu bionic InRelease\n",
            "Get:10 http://archive.ubuntu.com/ubuntu bionic-updates InRelease [88.7 kB]\n",
            "Hit:11 http://ppa.launchpad.net/cran/libgit2/ubuntu bionic InRelease\n",
            "Get:12 http://ppa.launchpad.net/deadsnakes/ppa/ubuntu bionic InRelease [15.9 kB]\n",
            "Get:13 http://archive.ubuntu.com/ubuntu bionic-backports InRelease [74.6 kB]\n",
            "Hit:14 http://ppa.launchpad.net/graphics-drivers/ppa/ubuntu bionic InRelease\n",
            "Get:15 https://raw.githubusercontent.com/pdidev/repo/ubuntu bionic/main amd64 Packages [19.5 kB]\n",
            "Get:18 http://security.ubuntu.com/ubuntu bionic-security/restricted amd64 Packages [829 kB]\n",
            "Get:19 http://security.ubuntu.com/ubuntu bionic-security/universe amd64 Packages [1,478 kB]\n",
            "Get:20 http://security.ubuntu.com/ubuntu bionic-security/main amd64 Packages [2,628 kB]\n",
            "Get:21 http://archive.ubuntu.com/ubuntu bionic-updates/restricted amd64 Packages [863 kB]\n",
            "Get:22 http://archive.ubuntu.com/ubuntu bionic-updates/main amd64 Packages [3,067 kB]\n",
            "Get:23 http://archive.ubuntu.com/ubuntu bionic-updates/universe amd64 Packages [2,256 kB]\n",
            "Get:24 http://ppa.launchpad.net/deadsnakes/ppa/ubuntu bionic/main amd64 Packages [45.3 kB]\n",
            "Fetched 11.5 MB in 7s (1,566 kB/s)\n",
            "Reading package lists... Done\n",
            "Building dependency tree       \n",
            "Reading state information... Done\n",
            "40 packages can be upgraded. Run 'apt list --upgradable' to see them.\n",
            "Reading package lists... Done\n",
            "Building dependency tree       \n",
            "Reading state information... Done\n",
            "The following additional packages will be installed:\n",
            "  flowvr libeigen3-dev libgail-common libgail18 libglew-dev libglew2.0\n",
            "  libgraphviz-dev libgtk2.0-0 libgtk2.0-bin libgtk2.0-common\n",
            "  libgvc6-plugins-gtk libparaconf-dev libparaconf-f90.0 libparaconf0\n",
            "  libpdi-f90.1 libpdi-pysupport1 libpdi1 libspdlog-dev libspdlog1 libxdot4\n",
            "  libxslt1-dev libyaml-dev pdiplugin-all pdiplugin-decl-hdf5-serial\n",
            "  pdiplugin-decl-netcdf-serial pdiplugin-decl-sion-openmpi pdiplugin-flowvr\n",
            "  pdiplugin-fti-openmpi pdiplugin-mpi-openmpi pdiplugin-pycall\n",
            "  pdiplugin-serialize pdiplugin-set-value pdiplugin-trace pdiplugin-user-code\n",
            "  pybind11-dev python3-numpy python3-pdi\n",
            "Suggested packages:\n",
            "  libeigen3-doc libmrpt-dev glew-utils gvfs libyaml-doc pybind11-doc\n",
            "  python-numpy-doc python3-nose python3-numpy-dbg\n",
            "The following NEW packages will be installed:\n",
            "  flowvr libeigen3-dev libgail-common libgail18 libglew-dev libglew2.0\n",
            "  libgraphviz-dev libgtk2.0-0 libgtk2.0-bin libgtk2.0-common\n",
            "  libgvc6-plugins-gtk libparaconf-dev libparaconf-f90.0 libparaconf0\n",
            "  libpdi-dev libpdi-f90.1 libpdi-pysupport1 libpdi1 libspdlog-dev libspdlog1\n",
            "  libxdot4 libxslt1-dev libyaml-dev pdidev-archive-keyring pdiplugin-all\n",
            "  pdiplugin-decl-hdf5-serial pdiplugin-decl-netcdf-serial\n",
            "  pdiplugin-decl-sion-openmpi pdiplugin-flowvr pdiplugin-fti-openmpi\n",
            "  pdiplugin-mpi-openmpi pdiplugin-pycall pdiplugin-serialize\n",
            "  pdiplugin-set-value pdiplugin-trace pdiplugin-user-code pybind11-dev\n",
            "  python3-numpy python3-pdi\n",
            "0 upgraded, 39 newly installed, 0 to remove and 40 not upgraded.\n",
            "Need to get 59.9 MB of archives.\n",
            "After this operation, 129 MB of additional disk space will be used.\n",
            "Get:1 http://archive.ubuntu.com/ubuntu bionic/universe amd64 libglew2.0 amd64 2.0.0-5 [140 kB]\n",
            "Get:2 http://archive.ubuntu.com/ubuntu bionic/universe amd64 libglew-dev amd64 2.0.0-5 [120 kB]\n",
            "Get:3 http://archive.ubuntu.com/ubuntu bionic/universe amd64 libxdot4 amd64 2.40.1-2 [15.7 kB]\n",
            "Get:4 http://archive.ubuntu.com/ubuntu bionic/main amd64 libgtk2.0-common all 2.24.32-1ubuntu1 [125 kB]\n",
            "Get:5 http://archive.ubuntu.com/ubuntu bionic/main amd64 libgtk2.0-0 amd64 2.24.32-1ubuntu1 [1,769 kB]\n",
            "Get:6 http://archive.ubuntu.com/ubuntu bionic/universe amd64 libgvc6-plugins-gtk amd64 2.40.1-2 [18.2 kB]\n",
            "Get:7 http://archive.ubuntu.com/ubuntu bionic/universe amd64 libgraphviz-dev amd64 2.40.1-2 [57.3 kB]\n",
            "Get:8 http://archive.ubuntu.com/ubuntu bionic-updates/main amd64 libxslt1-dev amd64 1.1.29-5ubuntu0.2 [407 kB]\n",
            "Get:9 http://archive.ubuntu.com/ubuntu bionic/main amd64 libgail18 amd64 2.24.32-1ubuntu1 [14.2 kB]\n",
            "Get:10 http://archive.ubuntu.com/ubuntu bionic/main amd64 libgail-common amd64 2.24.32-1ubuntu1 [112 kB]\n",
            "Get:11 http://archive.ubuntu.com/ubuntu bionic/main amd64 libgtk2.0-bin amd64 2.24.32-1ubuntu1 [7,536 B]\n",
            "Get:12 http://archive.ubuntu.com/ubuntu bionic/main amd64 libyaml-dev amd64 0.1.7-2ubuntu3 [55.7 kB]\n",
            "Get:13 http://archive.ubuntu.com/ubuntu bionic/main amd64 python3-numpy amd64 1:1.13.3-2ubuntu1 [1,943 kB]\n",
            "Get:14 http://archive.ubuntu.com/ubuntu bionic/universe amd64 libeigen3-dev all 3.3.4-4 [810 kB]\n",
            "Get:15 https://raw.githubusercontent.com/pdidev/repo/ubuntu bionic/main amd64 flowvr amd64 2.3.2-1~bpo18.04.pdidev.40261181 [52.6 MB]\n",
            "Get:16 https://raw.githubusercontent.com/pdidev/repo/ubuntu bionic/main amd64 libparaconf0 amd64 0.4.15-1~bpo18.04.pdidev.5463508 [8,024 B]\n",
            "Get:17 https://raw.githubusercontent.com/pdidev/repo/ubuntu bionic/main amd64 libparaconf-f90.0 amd64 0.4.15-1~bpo18.04.pdidev.5463508 [4,932 B]\n",
            "Get:18 https://raw.githubusercontent.com/pdidev/repo/ubuntu bionic/main amd64 libparaconf-dev amd64 0.4.15-1~bpo18.04.pdidev.5463508 [13.6 kB]\n",
            "Get:19 https://raw.githubusercontent.com/pdidev/repo/ubuntu bionic/main amd64 libspdlog1 amd64 1:1.5.0-1~bpo18.04.pdidev.57435104 [148 kB]\n",
            "Get:20 https://raw.githubusercontent.com/pdidev/repo/ubuntu bionic/main amd64 libpdi1 amd64 1.4.3-2~bpo18.04.pdidev.3471128 [205 kB]\n",
            "Get:21 https://raw.githubusercontent.com/pdidev/repo/ubuntu bionic/main amd64 libpdi-f90.1 amd64 1.4.3-2~bpo18.04.pdidev.3471128 [19.6 kB]\n",
            "Get:22 https://raw.githubusercontent.com/pdidev/repo/ubuntu bionic/main amd64 libpdi-pysupport1 amd64 1.4.3-2~bpo18.04.pdidev.3471128 [69.3 kB]\n",
            "Get:23 https://raw.githubusercontent.com/pdidev/repo/ubuntu bionic/main amd64 python3-pdi amd64 1.4.3-2~bpo18.04.pdidev.3471128 [75.7 kB]\n",
            "Get:24 https://raw.githubusercontent.com/pdidev/repo/ubuntu bionic/main amd64 libspdlog-dev amd64 1:1.5.0-1~bpo18.04.pdidev.57435104 [231 kB]\n",
            "Get:25 https://raw.githubusercontent.com/pdidev/repo/ubuntu bionic/main amd64 pybind11-dev all 2.5.0-4~pdidev~bpo18.04.pdidev.57435349 [138 kB]\n",
            "Get:26 https://raw.githubusercontent.com/pdidev/repo/ubuntu bionic/main amd64 libpdi-dev amd64 1.4.3-2~bpo18.04.pdidev.3471128 [65.8 kB]\n",
            "Get:27 https://raw.githubusercontent.com/pdidev/repo/ubuntu bionic/main amd64 pdiplugin-decl-hdf5-serial amd64 1.4.3-1~bpo18.04.pdidev.9508583 [85.1 kB]\n",
            "Get:28 https://raw.githubusercontent.com/pdidev/repo/ubuntu bionic/main amd64 pdiplugin-decl-netcdf-serial amd64 1.4.3-1~bpo18.04.pdidev.9508613 [70.9 kB]\n",
            "Get:29 https://raw.githubusercontent.com/pdidev/repo/ubuntu bionic/main amd64 pdiplugin-decl-sion-openmpi amd64 1.4.3-1~bpo18.04.pdidev.9508489 [111 kB]\n",
            "Get:30 https://raw.githubusercontent.com/pdidev/repo/ubuntu bionic/main amd64 pdiplugin-flowvr amd64 1.4.3-1~bpo18.04.pdidev.9507973 [117 kB]\n",
            "Get:31 https://raw.githubusercontent.com/pdidev/repo/ubuntu bionic/main amd64 pdiplugin-fti-openmpi amd64 1.4.3-1~bpo18.04.pdidev.9508478 [75.7 kB]\n",
            "Get:32 https://raw.githubusercontent.com/pdidev/repo/ubuntu bionic/main amd64 pdiplugin-mpi-openmpi amd64 1.4.3-1~bpo18.04.pdidev.9507856 [51.4 kB]\n",
            "Get:33 https://raw.githubusercontent.com/pdidev/repo/ubuntu bionic/main amd64 pdiplugin-pycall amd64 1.4.3-1~bpo18.04.pdidev.9508078 [65.5 kB]\n",
            "Get:34 https://raw.githubusercontent.com/pdidev/repo/ubuntu bionic/main amd64 pdiplugin-serialize amd64 1.4.3-1~bpo18.04.pdidev.9507984 [46.0 kB]\n",
            "Get:35 https://raw.githubusercontent.com/pdidev/repo/ubuntu bionic/main amd64 pdiplugin-set-value amd64 1.4.3-1~bpo18.04.pdidev.9508150 [48.1 kB]\n",
            "Get:36 https://raw.githubusercontent.com/pdidev/repo/ubuntu bionic/main amd64 pdiplugin-trace amd64 1.4.3-1~bpo18.04.pdidev.9508000 [32.1 kB]\n",
            "Get:37 https://raw.githubusercontent.com/pdidev/repo/ubuntu bionic/main amd64 pdiplugin-user-code amd64 1.4.3-1~bpo18.04.pdidev.9508066 [37.8 kB]\n",
            "Get:38 https://raw.githubusercontent.com/pdidev/repo/ubuntu bionic/main amd64 pdiplugin-all amd64 1.4.3-2~bpo18.04.pdidev.3471128 [1,820 B]\n",
            "Get:39 https://raw.githubusercontent.com/pdidev/repo/ubuntu bionic/main amd64 pdidev-archive-keyring all 2021.01.02~bpo18.04.pdidev.37003951 [3,404 B]\n",
            "Fetched 59.9 MB in 9s (6,911 kB/s)\n",
            "Extracting templates from packages: 100%\n",
            "Selecting previously unselected package libglew2.0:amd64.\n",
            "(Reading database ... 155332 files and directories currently installed.)\n",
            "Preparing to unpack .../00-libglew2.0_2.0.0-5_amd64.deb ...\n",
            "Unpacking libglew2.0:amd64 (2.0.0-5) ...\n",
            "Selecting previously unselected package libglew-dev:amd64.\n",
            "Preparing to unpack .../01-libglew-dev_2.0.0-5_amd64.deb ...\n",
            "Unpacking libglew-dev:amd64 (2.0.0-5) ...\n",
            "Selecting previously unselected package libxdot4.\n",
            "Preparing to unpack .../02-libxdot4_2.40.1-2_amd64.deb ...\n",
            "Unpacking libxdot4 (2.40.1-2) ...\n",
            "Selecting previously unselected package libgtk2.0-common.\n",
            "Preparing to unpack .../03-libgtk2.0-common_2.24.32-1ubuntu1_all.deb ...\n",
            "Unpacking libgtk2.0-common (2.24.32-1ubuntu1) ...\n",
            "Selecting previously unselected package libgtk2.0-0:amd64.\n",
            "Preparing to unpack .../04-libgtk2.0-0_2.24.32-1ubuntu1_amd64.deb ...\n",
            "Unpacking libgtk2.0-0:amd64 (2.24.32-1ubuntu1) ...\n",
            "Selecting previously unselected package libgvc6-plugins-gtk.\n",
            "Preparing to unpack .../05-libgvc6-plugins-gtk_2.40.1-2_amd64.deb ...\n",
            "Unpacking libgvc6-plugins-gtk (2.40.1-2) ...\n",
            "Selecting previously unselected package libgraphviz-dev.\n",
            "Preparing to unpack .../06-libgraphviz-dev_2.40.1-2_amd64.deb ...\n",
            "Unpacking libgraphviz-dev (2.40.1-2) ...\n",
            "Selecting previously unselected package libxslt1-dev:amd64.\n",
            "Preparing to unpack .../07-libxslt1-dev_1.1.29-5ubuntu0.2_amd64.deb ...\n",
            "Unpacking libxslt1-dev:amd64 (1.1.29-5ubuntu0.2) ...\n",
            "Selecting previously unselected package flowvr.\n",
            "Preparing to unpack .../08-flowvr_2.3.2-1~bpo18.04.pdidev.40261181_amd64.deb ...\n",
            "Unpacking flowvr (2.3.2-1~bpo18.04.pdidev.40261181) ...\n",
            "Selecting previously unselected package libgail18:amd64.\n",
            "Preparing to unpack .../09-libgail18_2.24.32-1ubuntu1_amd64.deb ...\n",
            "Unpacking libgail18:amd64 (2.24.32-1ubuntu1) ...\n",
            "Selecting previously unselected package libgail-common:amd64.\n",
            "Preparing to unpack .../10-libgail-common_2.24.32-1ubuntu1_amd64.deb ...\n",
            "Unpacking libgail-common:amd64 (2.24.32-1ubuntu1) ...\n",
            "Selecting previously unselected package libgtk2.0-bin.\n",
            "Preparing to unpack .../11-libgtk2.0-bin_2.24.32-1ubuntu1_amd64.deb ...\n",
            "Unpacking libgtk2.0-bin (2.24.32-1ubuntu1) ...\n",
            "Selecting previously unselected package libparaconf0.\n",
            "Preparing to unpack .../12-libparaconf0_0.4.15-1~bpo18.04.pdidev.5463508_amd64.deb ...\n",
            "Unpacking libparaconf0 (0.4.15-1~bpo18.04.pdidev.5463508) ...\n",
            "Selecting previously unselected package libparaconf-f90.0.\n",
            "Preparing to unpack .../13-libparaconf-f90.0_0.4.15-1~bpo18.04.pdidev.5463508_amd64.deb ...\n",
            "Unpacking libparaconf-f90.0 (0.4.15-1~bpo18.04.pdidev.5463508) ...\n",
            "Selecting previously unselected package libyaml-dev:amd64.\n",
            "Preparing to unpack .../14-libyaml-dev_0.1.7-2ubuntu3_amd64.deb ...\n",
            "Unpacking libyaml-dev:amd64 (0.1.7-2ubuntu3) ...\n",
            "Selecting previously unselected package libparaconf-dev.\n",
            "Preparing to unpack .../15-libparaconf-dev_0.4.15-1~bpo18.04.pdidev.5463508_amd64.deb ...\n",
            "Unpacking libparaconf-dev (0.4.15-1~bpo18.04.pdidev.5463508) ...\n",
            "Selecting previously unselected package libspdlog1.\n",
            "Preparing to unpack .../16-libspdlog1_1%3a1.5.0-1~bpo18.04.pdidev.57435104_amd64.deb ...\n",
            "Unpacking libspdlog1 (1:1.5.0-1~bpo18.04.pdidev.57435104) ...\n",
            "Selecting previously unselected package libpdi1.\n",
            "Preparing to unpack .../17-libpdi1_1.4.3-2~bpo18.04.pdidev.3471128_amd64.deb ...\n",
            "Unpacking libpdi1 (1.4.3-2~bpo18.04.pdidev.3471128) ...\n",
            "Selecting previously unselected package libpdi-f90.1.\n",
            "Preparing to unpack .../18-libpdi-f90.1_1.4.3-2~bpo18.04.pdidev.3471128_amd64.deb ...\n",
            "Unpacking libpdi-f90.1 (1.4.3-2~bpo18.04.pdidev.3471128) ...\n",
            "Selecting previously unselected package libpdi-pysupport1.\n",
            "Preparing to unpack .../19-libpdi-pysupport1_1.4.3-2~bpo18.04.pdidev.3471128_amd64.deb ...\n",
            "Unpacking libpdi-pysupport1 (1.4.3-2~bpo18.04.pdidev.3471128) ...\n",
            "Selecting previously unselected package python3-pdi.\n",
            "Preparing to unpack .../20-python3-pdi_1.4.3-2~bpo18.04.pdidev.3471128_amd64.deb ...\n",
            "Unpacking python3-pdi (1.4.3-2~bpo18.04.pdidev.3471128) ...\n",
            "Selecting previously unselected package libspdlog-dev.\n",
            "Preparing to unpack .../21-libspdlog-dev_1%3a1.5.0-1~bpo18.04.pdidev.57435104_amd64.deb ...\n",
            "Unpacking libspdlog-dev (1:1.5.0-1~bpo18.04.pdidev.57435104) ...\n",
            "Selecting previously unselected package pybind11-dev.\n",
            "Preparing to unpack .../22-pybind11-dev_2.5.0-4~pdidev~bpo18.04.pdidev.57435349_all.deb ...\n",
            "Unpacking pybind11-dev (2.5.0-4~pdidev~bpo18.04.pdidev.57435349) ...\n",
            "Selecting previously unselected package python3-numpy.\n",
            "Preparing to unpack .../23-python3-numpy_1%3a1.13.3-2ubuntu1_amd64.deb ...\n",
            "Unpacking python3-numpy (1:1.13.3-2ubuntu1) ...\n",
            "Selecting previously unselected package libpdi-dev.\n",
            "Preparing to unpack .../24-libpdi-dev_1.4.3-2~bpo18.04.pdidev.3471128_amd64.deb ...\n",
            "Unpacking libpdi-dev (1.4.3-2~bpo18.04.pdidev.3471128) ...\n",
            "Selecting previously unselected package pdiplugin-decl-hdf5-serial.\n",
            "Preparing to unpack .../25-pdiplugin-decl-hdf5-serial_1.4.3-1~bpo18.04.pdidev.9508583_amd64.deb ...\n",
            "Unpacking pdiplugin-decl-hdf5-serial (1.4.3-1~bpo18.04.pdidev.9508583) ...\n",
            "Selecting previously unselected package pdiplugin-decl-netcdf-serial.\n",
            "Preparing to unpack .../26-pdiplugin-decl-netcdf-serial_1.4.3-1~bpo18.04.pdidev.9508613_amd64.deb ...\n",
            "Unpacking pdiplugin-decl-netcdf-serial (1.4.3-1~bpo18.04.pdidev.9508613) ...\n",
            "Selecting previously unselected package pdiplugin-decl-sion-openmpi.\n",
            "Preparing to unpack .../27-pdiplugin-decl-sion-openmpi_1.4.3-1~bpo18.04.pdidev.9508489_amd64.deb ...\n",
            "Unpacking pdiplugin-decl-sion-openmpi (1.4.3-1~bpo18.04.pdidev.9508489) ...\n",
            "Selecting previously unselected package pdiplugin-flowvr.\n",
            "Preparing to unpack .../28-pdiplugin-flowvr_1.4.3-1~bpo18.04.pdidev.9507973_amd64.deb ...\n",
            "Unpacking pdiplugin-flowvr (1.4.3-1~bpo18.04.pdidev.9507973) ...\n",
            "Selecting previously unselected package pdiplugin-fti-openmpi.\n",
            "Preparing to unpack .../29-pdiplugin-fti-openmpi_1.4.3-1~bpo18.04.pdidev.9508478_amd64.deb ...\n",
            "Unpacking pdiplugin-fti-openmpi (1.4.3-1~bpo18.04.pdidev.9508478) ...\n",
            "Selecting previously unselected package pdiplugin-mpi-openmpi.\n",
            "Preparing to unpack .../30-pdiplugin-mpi-openmpi_1.4.3-1~bpo18.04.pdidev.9507856_amd64.deb ...\n",
            "Unpacking pdiplugin-mpi-openmpi (1.4.3-1~bpo18.04.pdidev.9507856) ...\n",
            "Selecting previously unselected package pdiplugin-pycall.\n",
            "Preparing to unpack .../31-pdiplugin-pycall_1.4.3-1~bpo18.04.pdidev.9508078_amd64.deb ...\n",
            "Unpacking pdiplugin-pycall (1.4.3-1~bpo18.04.pdidev.9508078) ...\n",
            "Selecting previously unselected package pdiplugin-serialize.\n",
            "Preparing to unpack .../32-pdiplugin-serialize_1.4.3-1~bpo18.04.pdidev.9507984_amd64.deb ...\n",
            "Unpacking pdiplugin-serialize (1.4.3-1~bpo18.04.pdidev.9507984) ...\n",
            "Selecting previously unselected package pdiplugin-set-value.\n",
            "Preparing to unpack .../33-pdiplugin-set-value_1.4.3-1~bpo18.04.pdidev.9508150_amd64.deb ...\n",
            "Unpacking pdiplugin-set-value (1.4.3-1~bpo18.04.pdidev.9508150) ...\n",
            "Selecting previously unselected package pdiplugin-trace.\n",
            "Preparing to unpack .../34-pdiplugin-trace_1.4.3-1~bpo18.04.pdidev.9508000_amd64.deb ...\n",
            "Unpacking pdiplugin-trace (1.4.3-1~bpo18.04.pdidev.9508000) ...\n",
            "Selecting previously unselected package pdiplugin-user-code.\n",
            "Preparing to unpack .../35-pdiplugin-user-code_1.4.3-1~bpo18.04.pdidev.9508066_amd64.deb ...\n",
            "Unpacking pdiplugin-user-code (1.4.3-1~bpo18.04.pdidev.9508066) ...\n",
            "Selecting previously unselected package pdiplugin-all.\n",
            "Preparing to unpack .../36-pdiplugin-all_1.4.3-2~bpo18.04.pdidev.3471128_amd64.deb ...\n",
            "Unpacking pdiplugin-all (1.4.3-2~bpo18.04.pdidev.3471128) ...\n",
            "Selecting previously unselected package libeigen3-dev.\n",
            "Preparing to unpack .../37-libeigen3-dev_3.3.4-4_all.deb ...\n",
            "Unpacking libeigen3-dev (3.3.4-4) ...\n",
            "Selecting previously unselected package pdidev-archive-keyring.\n",
            "Preparing to unpack .../38-pdidev-archive-keyring_2021.01.02~bpo18.04.pdidev.37003951_all.deb ...\n",
            "Unpacking pdidev-archive-keyring (2021.01.02~bpo18.04.pdidev.37003951) ...\n",
            "Setting up libgtk2.0-common (2.24.32-1ubuntu1) ...\n",
            "Setting up libxdot4 (2.40.1-2) ...\n",
            "Setting up pdidev-archive-keyring (2021.01.02~bpo18.04.pdidev.37003951) ...\n",
            "Setting up libspdlog1 (1:1.5.0-1~bpo18.04.pdidev.57435104) ...\n",
            "Setting up libeigen3-dev (3.3.4-4) ...\n",
            "Setting up python3-numpy (1:1.13.3-2ubuntu1) ...\n",
            "Setting up libyaml-dev:amd64 (0.1.7-2ubuntu3) ...\n",
            "Setting up libspdlog-dev (1:1.5.0-1~bpo18.04.pdidev.57435104) ...\n",
            "Setting up pybind11-dev (2.5.0-4~pdidev~bpo18.04.pdidev.57435349) ...\n",
            "Setting up libglew2.0:amd64 (2.0.0-5) ...\n",
            "Setting up libparaconf0 (0.4.15-1~bpo18.04.pdidev.5463508) ...\n",
            "Setting up libglew-dev:amd64 (2.0.0-5) ...\n",
            "Setting up libxslt1-dev:amd64 (1.1.29-5ubuntu0.2) ...\n",
            "Setting up libpdi1 (1.4.3-2~bpo18.04.pdidev.3471128) ...\n",
            "Setting up pdiplugin-trace (1.4.3-1~bpo18.04.pdidev.9508000) ...\n",
            "Setting up libgtk2.0-0:amd64 (2.24.32-1ubuntu1) ...\n",
            "Setting up libgail18:amd64 (2.24.32-1ubuntu1) ...\n",
            "Setting up pdiplugin-user-code (1.4.3-1~bpo18.04.pdidev.9508066) ...\n",
            "Setting up pdiplugin-set-value (1.4.3-1~bpo18.04.pdidev.9508150) ...\n",
            "Setting up libpdi-pysupport1 (1.4.3-2~bpo18.04.pdidev.3471128) ...\n",
            "Setting up libgail-common:amd64 (2.24.32-1ubuntu1) ...\n",
            "Setting up pdiplugin-decl-netcdf-serial (1.4.3-1~bpo18.04.pdidev.9508613) ...\n",
            "update-alternatives: using /usr/lib/x86_64-linux-gnu/pdi/plugins_1.4.3/serial/libpdi_decl_netcdf_plugin.so to provide /usr/lib/x86_64-linux-gnu/pdi/plugins_1.4.3/libpdi_decl_netcdf_plugin.so (pdi-1.4.3_decl_netcdf_plugin.so-x86_64-linux-gnu) in auto mode\n",
            "Setting up libgvc6-plugins-gtk (2.40.1-2) ...\n",
            "Setting up libparaconf-f90.0 (0.4.15-1~bpo18.04.pdidev.5463508) ...\n",
            "Setting up pdiplugin-serialize (1.4.3-1~bpo18.04.pdidev.9507984) ...\n",
            "Setting up pdiplugin-decl-hdf5-serial (1.4.3-1~bpo18.04.pdidev.9508583) ...\n",
            "update-alternatives: using /usr/lib/x86_64-linux-gnu/pdi/plugins_1.4.3/serial/libpdi_decl_hdf5_plugin.so to provide /usr/lib/x86_64-linux-gnu/pdi/plugins_1.4.3/libpdi_decl_hdf5_plugin.so (pdi-1.4.3_decl_hdf5_plugin.so-x86_64-linux-gnu) in auto mode\n",
            "Setting up libpdi-f90.1 (1.4.3-2~bpo18.04.pdidev.3471128) ...\n",
            "Setting up libgraphviz-dev (2.40.1-2) ...\n",
            "Setting up pdiplugin-pycall (1.4.3-1~bpo18.04.pdidev.9508078) ...\n",
            "Setting up pdiplugin-decl-sion-openmpi (1.4.3-1~bpo18.04.pdidev.9508489) ...\n",
            "update-alternatives: using /usr/lib/x86_64-linux-gnu/pdi/plugins_1.4.3/openmpi/libpdi_decl_sion_plugin.so to provide /usr/lib/x86_64-linux-gnu/pdi/plugins_1.4.3/libpdi_decl_sion_plugin.so (pdi-1.4.3_decl-sion_plugin.so-x86_64-linux-gnu) in auto mode\n",
            "Setting up pdiplugin-fti-openmpi (1.4.3-1~bpo18.04.pdidev.9508478) ...\n",
            "update-alternatives: using /usr/lib/x86_64-linux-gnu/pdi/plugins_1.4.3/openmpi/libpdi_fti_plugin.so to provide /usr/lib/x86_64-linux-gnu/pdi/plugins_1.4.3/libpdi_fti_plugin.so (pdi-1.4.3_fti_plugin.so-x86_64-linux-gnu) in auto mode\n",
            "Setting up pdiplugin-mpi-openmpi (1.4.3-1~bpo18.04.pdidev.9507856) ...\n",
            "update-alternatives: using /usr/lib/x86_64-linux-gnu/pdi/plugins_1.4.3/openmpi/libpdi_mpi_plugin.so to provide /usr/lib/x86_64-linux-gnu/pdi/plugins_1.4.3/libpdi_mpi_plugin.so (pdi-1.4.3_mpi_plugin.so-x86_64-linux-gnu) in auto mode\n",
            "Setting up python3-pdi (1.4.3-2~bpo18.04.pdidev.3471128) ...\n",
            "Setting up libparaconf-dev (0.4.15-1~bpo18.04.pdidev.5463508) ...\n",
            "Setting up libgtk2.0-bin (2.24.32-1ubuntu1) ...\n",
            "Setting up flowvr (2.3.2-1~bpo18.04.pdidev.40261181) ...\n",
            "Setting up pdiplugin-flowvr (1.4.3-1~bpo18.04.pdidev.9507973) ...\n",
            "Setting up libpdi-dev (1.4.3-2~bpo18.04.pdidev.3471128) ...\n",
            "Setting up pdiplugin-all (1.4.3-2~bpo18.04.pdidev.3471128) ...\n",
            "Processing triggers for man-db (2.8.3-2ubuntu0.1) ...\n",
            "Processing triggers for libc-bin (2.27-3ubuntu1.3) ...\n",
            "/sbin/ldconfig.real: /usr/local/lib/python3.7/dist-packages/ideep4py/lib/libmkldnn.so.0 is not a symbolic link\n",
            "\n"
          ]
        }
      ],
      "source": [
        "!echo \"deb [ arch=amd64 ] https://raw.githubusercontent.com/pdidev/repo/ubuntu bionic main\" | sudo tee /etc/apt/sources.list.d/pdi.list > /dev/null\n",
        "!wget -O /etc/apt/trusted.gpg.d/pdidev-archive-keyring.gpg https://raw.githubusercontent.com/pdidev/repo/ubuntu/pdidev-archive-keyring.gpg\n",
        "!chmod a+r /etc/apt/trusted.gpg.d/pdidev-archive-keyring.gpg /etc/apt/sources.list.d/pdi.list\n",
        "!apt update\n",
        "!apt install pdidev-archive-keyring libpdi-dev"
      ]
    },
    {
      "cell_type": "code",
      "source": [
        "# !wget  http://gac.udc.es/~emilioj/bionic.tgz\n",
        "# !tar -xf bionic.tgz\n",
        "!cd bionic/ && apt install `find . -name \"*.deb\"`"
      ],
      "metadata": {
        "id": "zdKzu2AaMYsp",
        "outputId": "45001a2c-d294-4153-c284-974b95660157",
        "colab": {
          "base_uri": "https://localhost:8080/"
        }
      },
      "execution_count": 3,
      "outputs": [
        {
          "output_type": "stream",
          "name": "stdout",
          "text": [
            "Reading package lists... Done\n",
            "Building dependency tree       \n",
            "Reading state information... Done\n",
            "Note, selecting 'libpdi-pysupport1' instead of './libpdi-pysupport1_1.4.3-3~bpo18.04~py37_amd64.deb'\n",
            "Note, selecting 'gym-dssat-pdi' instead of './gym-dssat-pdi_0.0.5-1~bpo18.04~py37_all.deb'\n",
            "Note, selecting 'libpdi1' instead of './libpdi1_1.4.3-3~bpo18.04~py37_amd64.deb'\n",
            "Note, selecting 'dssat-csm-data' instead of './dssat-csm-data_4.7~e2d0355-1~bpo18.04_all.deb'\n",
            "Note, selecting 'pdiplugin-pycall' instead of './pdiplugin-pycall_1.4.3-1~bpo18.04~py37_amd64.deb'\n",
            "Note, selecting 'dssat-pdi' instead of './dssat-pdi_0.2.4.7~e355a58-1~bpo18.04_amd64.deb'\n",
            "Note, selecting 'libpdi-dev' instead of './libpdi-dev_1.4.3-3~bpo18.04~py37_amd64.deb'\n",
            "Note, selecting 'libpdi-f90.1' instead of './libpdi-f90.1_1.4.3-3~bpo18.04~py37_amd64.deb'\n",
            "Note, selecting 'python3-pdi' instead of './python3-pdi_1.4.3-3~bpo18.04~py37_amd64.deb'\n",
            "The following additional packages will be installed:\n",
            "  python-pip-whl python3-venv python3.6-venv\n",
            "The following NEW packages will be installed:\n",
            "  dssat-csm-data dssat-pdi gym-dssat-pdi python-pip-whl python3-venv\n",
            "  python3.6-venv\n",
            "The following packages will be upgraded:\n",
            "  libpdi-dev libpdi-f90.1 libpdi-pysupport1 libpdi1 pdiplugin-pycall\n",
            "  python3-pdi\n",
            "6 upgraded, 6 newly installed, 0 to remove and 40 not upgraded.\n",
            "Need to get 1,660 kB/67.8 MB of archives.\n",
            "After this operation, 333 MB of additional disk space will be used.\n",
            "Get:1 /content/bionic/libpdi-dev_1.4.3-3~bpo18.04~py37_amd64.deb libpdi-dev amd64 1.4.3-3~emi [65.6 kB]\n",
            "Get:2 /content/bionic/python3-pdi_1.4.3-3~bpo18.04~py37_amd64.deb python3-pdi amd64 1.4.3-3~emi [75.5 kB]\n",
            "Get:3 /content/bionic/libpdi-pysupport1_1.4.3-3~bpo18.04~py37_amd64.deb libpdi-pysupport1 amd64 1.4.3-3~emi [69.2 kB]\n",
            "Get:4 /content/bionic/libpdi-f90.1_1.4.3-3~bpo18.04~py37_amd64.deb libpdi-f90.1 amd64 1.4.3-3~emi [20.4 kB]\n",
            "Get:5 /content/bionic/libpdi1_1.4.3-3~bpo18.04~py37_amd64.deb libpdi1 amd64 1.4.3-3~emi [204 kB]\n",
            "Get:6 /content/bionic/pdiplugin-pycall_1.4.3-1~bpo18.04~py37_amd64.deb pdiplugin-pycall amd64 1.4.3-1~emi [71.6 kB]\n",
            "Get:7 /content/bionic/dssat-pdi_0.2.4.7~e355a58-1~bpo18.04_amd64.deb dssat-pdi amd64 0.2.4.7~e355a58-1 [2,528 kB]\n",
            "Get:8 /content/bionic/dssat-csm-data_4.7~e2d0355-1~bpo18.04_all.deb dssat-csm-data all 4.7~e2d0355-1 [3,534 kB]\n",
            "Get:9 http://archive.ubuntu.com/ubuntu bionic-updates/universe amd64 python-pip-whl all 9.0.1-2.3~ubuntu1.18.04.5 [1,653 kB]\n",
            "Get:10 /content/bionic/gym-dssat-pdi_0.0.5-1~bpo18.04~py37_all.deb gym-dssat-pdi all 0.0.5-1 [59.5 MB]\n",
            "Get:11 http://archive.ubuntu.com/ubuntu bionic-updates/universe amd64 python3.6-venv amd64 3.6.9-1~18.04ubuntu1.6 [6,184 B]\n",
            "Get:12 http://archive.ubuntu.com/ubuntu bionic-updates/universe amd64 python3-venv amd64 3.6.7-1~18.04 [1,208 B]\n",
            "Fetched 1,660 kB in 1s (1,517 kB/s)\n",
            "Selecting previously unselected package python-pip-whl.\n",
            "(Reading database ... 160062 files and directories currently installed.)\n",
            "Preparing to unpack .../00-python-pip-whl_9.0.1-2.3~ubuntu1.18.04.5_all.deb ...\n",
            "Unpacking python-pip-whl (9.0.1-2.3~ubuntu1.18.04.5) ...\n",
            "Selecting previously unselected package python3.6-venv.\n",
            "Preparing to unpack .../01-python3.6-venv_3.6.9-1~18.04ubuntu1.6_amd64.deb ...\n",
            "Unpacking python3.6-venv (3.6.9-1~18.04ubuntu1.6) ...\n",
            "Selecting previously unselected package python3-venv.\n",
            "Preparing to unpack .../02-python3-venv_3.6.7-1~18.04_amd64.deb ...\n",
            "Unpacking python3-venv (3.6.7-1~18.04) ...\n",
            "Preparing to unpack .../03-libpdi-dev_1.4.3-3~bpo18.04~py37_amd64.deb ...\n",
            "Unpacking libpdi-dev (1.4.3-3~emi) over (1.4.3-2~bpo18.04.pdidev.3471128) ...\n",
            "Preparing to unpack .../04-python3-pdi_1.4.3-3~bpo18.04~py37_amd64.deb ...\n",
            "Unpacking python3-pdi (1.4.3-3~emi) over (1.4.3-2~bpo18.04.pdidev.3471128) ...\n",
            "Preparing to unpack .../05-libpdi-pysupport1_1.4.3-3~bpo18.04~py37_amd64.deb ...\n",
            "Unpacking libpdi-pysupport1 (1.4.3-3~emi) over (1.4.3-2~bpo18.04.pdidev.3471128) ...\n",
            "Preparing to unpack .../06-libpdi-f90.1_1.4.3-3~bpo18.04~py37_amd64.deb ...\n",
            "Unpacking libpdi-f90.1 (1.4.3-3~emi) over (1.4.3-2~bpo18.04.pdidev.3471128) ...\n",
            "Preparing to unpack .../07-libpdi1_1.4.3-3~bpo18.04~py37_amd64.deb ...\n",
            "Unpacking libpdi1 (1.4.3-3~emi) over (1.4.3-2~bpo18.04.pdidev.3471128) ...\n",
            "Preparing to unpack .../08-pdiplugin-pycall_1.4.3-1~bpo18.04~py37_amd64.deb ...\n",
            "Unpacking pdiplugin-pycall (1.4.3-1~emi) over (1.4.3-1~bpo18.04.pdidev.9508078) ...\n",
            "Selecting previously unselected package dssat-pdi.\n",
            "Preparing to unpack .../09-dssat-pdi_0.2.4.7~e355a58-1~bpo18.04_amd64.deb ...\n",
            "Unpacking dssat-pdi (0.2.4.7~e355a58-1) ...\n",
            "Selecting previously unselected package dssat-csm-data.\n",
            "Preparing to unpack .../10-dssat-csm-data_4.7~e2d0355-1~bpo18.04_all.deb ...\n",
            "Unpacking dssat-csm-data (4.7~e2d0355-1) ...\n",
            "Setting up python-pip-whl (9.0.1-2.3~ubuntu1.18.04.5) ...\n",
            "Setting up python3.6-venv (3.6.9-1~18.04ubuntu1.6) ...\n",
            "Setting up python3-venv (3.6.7-1~18.04) ...\n",
            "Selecting previously unselected package gym-dssat-pdi.\n",
            "(Reading database ... 161941 files and directories currently installed.)\n",
            "Preparing to unpack .../gym-dssat-pdi_0.0.5-1~bpo18.04~py37_all.deb ...\n",
            "Unpacking gym-dssat-pdi (0.0.5-1) ...\n",
            "Setting up libpdi1 (1.4.3-3~emi) ...\n",
            "Setting up libpdi-pysupport1 (1.4.3-3~emi) ...\n",
            "Setting up libpdi-f90.1 (1.4.3-3~emi) ...\n",
            "Setting up pdiplugin-pycall (1.4.3-1~emi) ...\n",
            "Setting up python3-pdi (1.4.3-3~emi) ...\n",
            "Setting up dssat-pdi (0.2.4.7~e355a58-1) ...\n",
            "Setting up dssat-csm-data (4.7~e2d0355-1) ...\n",
            "Setting up libpdi-dev (1.4.3-3~emi) ...\n",
            "Setting up gym-dssat-pdi (0.0.5-1) ...\n",
            "Processing triggers for man-db (2.8.3-2ubuntu0.1) ...\n",
            "Processing triggers for libc-bin (2.27-3ubuntu1.3) ...\n",
            "/sbin/ldconfig.real: /usr/local/lib/python3.7/dist-packages/ideep4py/lib/libmkldnn.so.0 is not a symbolic link\n",
            "\n"
          ]
        }
      ]
    },
    {
      "cell_type": "code",
      "source": [
        "!pip install stable-baselines3"
      ],
      "metadata": {
        "id": "uSyRCO333jgD",
        "outputId": "7f9d3300-9076-4761-8dfb-91f25af8630c",
        "colab": {
          "base_uri": "https://localhost:8080/"
        }
      },
      "execution_count": 8,
      "outputs": [
        {
          "output_type": "stream",
          "name": "stdout",
          "text": [
            "Collecting stable-baselines3\n",
            "  Downloading stable_baselines3-1.4.0-py3-none-any.whl (176 kB)\n",
            "\u001b[?25l\r\r     |█▉                              | 10 kB 24.4 MB/s eta 0:00:01\r     |███▊                            | 20 kB 15.3 MB/s eta 0:00:01\r     |█████▋                          | 30 kB 10.8 MB/s eta 0:00:01\r     |███████▍                        | 40 kB 9.2 MB/s eta 0:00:01 \r     |█████████▎                      | 51 kB 4.5 MB/s eta 0:00:01 \r     |███████████▏                    | 61 kB 5.3 MB/s eta 0:00:01 \r     |█████████████                   | 71 kB 5.9 MB/s eta 0:00:01 \r     |██████████████▉                 | 81 kB 6.0 MB/s eta 0:00:01 \r     |████████████████▊               | 92 kB 6.7 MB/s eta 0:00:01 \r     |██████████████████▌             | 102 kB 5.5 MB/s eta 0:00:01\r     |████████████████████▍           | 112 kB 5.5 MB/s eta 0:00:01\r     |██████████████████████▎         | 122 kB 5.5 MB/s eta 0:00:01\r     |████████████████████████        | 133 kB 5.5 MB/s eta 0:00:01\r     |██████████████████████████      | 143 kB 5.5 MB/s eta 0:00:01\r     |███████████████████████████▉    | 153 kB 5.5 MB/s eta 0:00:01\r     |█████████████████████████████▋  | 163 kB 5.5 MB/s eta 0:00:01\r     |███████████████████████████████▌| 174 kB 5.5 MB/s eta 0:00:01\r     |████████████████████████████████| 176 kB 5.5 MB/s            \n",
            "\u001b[?25hRequirement already satisfied: pandas in /usr/local/lib/python3.7/dist-packages (from stable-baselines3) (1.3.5)\n",
            "Requirement already satisfied: gym<0.20,>=0.17 in /opt/gym_dssat_pdi/lib/python3.7/site-packages (from stable-baselines3) (0.18.3)\n",
            "Requirement already satisfied: cloudpickle in /opt/gym_dssat_pdi/lib/python3.7/site-packages (from stable-baselines3) (1.6.0)\n",
            "Requirement already satisfied: numpy in /opt/gym_dssat_pdi/lib/python3.7/site-packages (from stable-baselines3) (1.19.5)\n",
            "Requirement already satisfied: torch>=1.8.1 in /usr/local/lib/python3.7/dist-packages (from stable-baselines3) (1.10.0+cu111)\n",
            "Requirement already satisfied: matplotlib in /opt/gym_dssat_pdi/lib/python3.7/site-packages (from stable-baselines3) (3.3.4)\n",
            "Requirement already satisfied: Pillow<=8.2.0 in /opt/gym_dssat_pdi/lib/python3.7/site-packages (from gym<0.20,>=0.17->stable-baselines3) (8.2.0)\n",
            "Requirement already satisfied: pyglet<=1.5.15,>=1.4.0 in /opt/gym_dssat_pdi/lib/python3.7/site-packages (from gym<0.20,>=0.17->stable-baselines3) (1.5.15)\n",
            "Requirement already satisfied: scipy in /opt/gym_dssat_pdi/lib/python3.7/site-packages (from gym<0.20,>=0.17->stable-baselines3) (1.7.3)\n",
            "Requirement already satisfied: typing-extensions in /usr/local/lib/python3.7/dist-packages (from torch>=1.8.1->stable-baselines3) (3.10.0.2)\n",
            "Requirement already satisfied: pyparsing!=2.0.4,!=2.1.2,!=2.1.6,>=2.0.3 in /opt/gym_dssat_pdi/lib/python3.7/site-packages (from matplotlib->stable-baselines3) (3.0.7)\n",
            "Requirement already satisfied: cycler>=0.10 in /opt/gym_dssat_pdi/lib/python3.7/site-packages (from matplotlib->stable-baselines3) (0.11.0)\n",
            "Requirement already satisfied: python-dateutil>=2.1 in /opt/gym_dssat_pdi/lib/python3.7/site-packages (from matplotlib->stable-baselines3) (2.8.2)\n",
            "Requirement already satisfied: kiwisolver>=1.0.1 in /opt/gym_dssat_pdi/lib/python3.7/site-packages (from matplotlib->stable-baselines3) (1.3.2)\n",
            "Requirement already satisfied: pytz>=2017.3 in /usr/local/lib/python3.7/dist-packages (from pandas->stable-baselines3) (2018.9)\n",
            "Requirement already satisfied: six>=1.5 in /opt/gym_dssat_pdi/lib/python3.7/site-packages (from python-dateutil>=2.1->matplotlib->stable-baselines3) (1.16.0)\n",
            "Installing collected packages: stable-baselines3\n",
            "Successfully installed stable-baselines3-1.4.0\n"
          ]
        }
      ]
    },
    {
      "cell_type": "code",
      "source": [
        "!/opt/gym_dssat_pdi/bin/pip uninstall seaborn stable-baselines3[extra]"
      ],
      "metadata": {
        "id": "9R6ZAwj-tu-u"
      },
      "execution_count": null,
      "outputs": []
    },
    {
      "cell_type": "code",
      "source": [
        "import os\n",
        "\n",
        "os.environ[\"PATH\"] = \"/opt/gym_dssat_pdi/bin:\" + os.environ[\"PATH\"]\n",
        "os.environ[\"PYTHONPATH\"] = \"/opt/gym_dssat_pdi/lib/python3.7/site-packages/:\" + os.environ[\"PYTHONPATH\"]\n",
        "# os.environ[\"GYM_DSSAT_PDI_PATH\"] = \"/opt/gym_dssat_pdi/lib/python3.6/site-packages/gym_dssat_pdi\""
      ],
      "metadata": {
        "id": "gBuzyrmkPb-7"
      },
      "execution_count": 5,
      "outputs": []
    },
    {
      "cell_type": "code",
      "source": [
        "!python --version"
      ],
      "metadata": {
        "id": "nWenhrKZPjMc",
        "outputId": "77355a25-f0a3-4f31-a3b3-9706738cfadf",
        "colab": {
          "base_uri": "https://localhost:8080/"
        }
      },
      "execution_count": 6,
      "outputs": [
        {
          "output_type": "stream",
          "name": "stdout",
          "text": [
            "Python 3.7.5\n"
          ]
        }
      ]
    },
    {
      "cell_type": "code",
      "source": [
        "!python /opt/gym_dssat_pdi/samples/run_env.py"
      ],
      "metadata": {
        "id": "3eAy3hqhNI1p"
      },
      "execution_count": null,
      "outputs": []
    },
    {
      "cell_type": "code",
      "source": [
        "import sys\n",
        "\n",
        "sys.path.insert(1, '/opt/gym_dssat_pdi/lib/python3.7/site-packages')"
      ],
      "metadata": {
        "id": "ex3UofeBgXTc"
      },
      "execution_count": 10,
      "outputs": []
    },
    {
      "cell_type": "code",
      "source": [
        "print(sys.path)"
      ],
      "metadata": {
        "id": "G8amJH2MkM4j",
        "outputId": "17721ef2-1be4-4063-ac9f-f6f7964f9f25",
        "colab": {
          "base_uri": "https://localhost:8080/"
        }
      },
      "execution_count": 11,
      "outputs": [
        {
          "output_type": "stream",
          "name": "stdout",
          "text": [
            "['', '/opt/gym_dssat_pdi/lib/python3.7/site-packages', '/content', '/env/python', '/usr/lib/python37.zip', '/usr/lib/python3.7', '/usr/lib/python3.7/lib-dynload', '/usr/local/lib/python3.7/dist-packages', '/usr/lib/python3/dist-packages', '/usr/local/lib/python3.7/dist-packages/IPython/extensions', '/root/.ipython']\n"
          ]
        }
      ]
    },
    {
      "cell_type": "code",
      "source": [
        "!/opt/gym_dssat_pdi/bin/pip list"
      ],
      "metadata": {
        "id": "HCi_F7X9uNjO"
      },
      "execution_count": null,
      "outputs": []
    },
    {
      "cell_type": "code",
      "source": [
        "import gym\n",
        "import gym_dssat_pdi\n",
        "import random\n",
        "import torch\n",
        "import numpy as np\n",
        "import pandas as pd\n",
        "# import seaborn as sns\n",
        "import matplotlib.pyplot as plt\n",
        "from stable_baselines3 import PPO\n",
        "from stable_baselines3.common.evaluation import evaluate_policy\n",
        "from stable_baselines3.common.monitor import Monitor\n",
        "from stable_baselines3.common.callbacks import EvalCallback"
      ],
      "metadata": {
        "id": "5rhldkQA-llS"
      },
      "execution_count": 12,
      "outputs": []
    },
    {
      "cell_type": "code",
      "source": [
        "env_args = {\n",
        "            'run_dssat_location': '/opt/dssat_pdi/run_dssat',\n",
        "            'log_saving_path': './logs/dssat_pdi.log',\n",
        "            'mode': 'fertilization',\n",
        "            'seed': 123456,\n",
        "            'random_weather': True,\n",
        "        }\n",
        "\n",
        "env = gym.make('gym_dssat_pdi:GymDssatPdi-v0', **env_args)"
      ],
      "metadata": {
        "id": "MdPHIffPRfq2"
      },
      "execution_count": 13,
      "outputs": []
    },
    {
      "cell_type": "code",
      "source": [
        "env.observation"
      ],
      "metadata": {
        "id": "BsLxrIELlhSM",
        "outputId": "19a1eb3c-f226-40e2-c3b6-a8440a1e4474",
        "colab": {
          "base_uri": "https://localhost:8080/"
        }
      },
      "execution_count": 14,
      "outputs": [
        {
          "output_type": "execute_result",
          "data": {
            "text/plain": [
              "{'dap': 4377089,\n",
              " 'dtt': 0.0,\n",
              " 'grnwt': 0.0,\n",
              " 'istage': 7,\n",
              " 'nstres': 0.0,\n",
              " 'pltpop': 7.199999809265137,\n",
              " 'rain': 0.10000000149011612,\n",
              " 'rtdep': 0.0,\n",
              " 'srad': 8.652971267700195,\n",
              " 'swfac': 0.0,\n",
              " 'tmax': 18.56235122680664,\n",
              " 'tmin': 6.544256687164307,\n",
              " 'topwt': 0.0,\n",
              " 'totaml': 0.0,\n",
              " 'vstage': 0.0,\n",
              " 'xlai': 0.0}"
            ]
          },
          "metadata": {},
          "execution_count": 14
        }
      ]
    },
    {
      "cell_type": "code",
      "source": [
        "# helpers for action normalization\n",
        "def normalize_action(action_space_limits, action):\n",
        "    \"\"\"Normalize the action from [low, high] to [-1, 1]\"\"\"\n",
        "    low, high = action_space_limits\n",
        "    return 2.0 * ((action - low) / (high - low)) - 1.0\n",
        "\n",
        "def denormalize_action(action_space_limits, action):\n",
        "    \"\"\"Denormalize the action from [-1, 1] to [low, high]\"\"\"\n",
        "    low, high = action_space_limits\n",
        "    return low + (0.5 * (action + 1.0) * (high - low))\n",
        "\n",
        "# Wrapper for easy and uniform interfacing with SB3\n",
        "class GymDssatWrapper(gym.Wrapper):\n",
        "    def __init__(self, env):\n",
        "        super(GymDssatWrapper, self).__init__(env)\n",
        "\n",
        "        self.action_low, self.action_high = self._get_action_space_bounds()\n",
        "\n",
        "        # using a normalized action space\n",
        "        self.action_space = gym.spaces.Box(low=-1, high=1, shape=(1,), dtype=\"float32\")\n",
        "\n",
        "        # using a vector representation of observations to allow\n",
        "        # easily using SB3 MlpPolicy\n",
        "        self.observation_space = gym.spaces.Box(low=0.0,\n",
        "                                                high=np.inf,\n",
        "                                                shape=env.observation_dict_to_array(\n",
        "                                                    env.observation).shape,\n",
        "                                                dtype=\"float32\"\n",
        "                                                )\n",
        "\n",
        "        # to avoid annoying problem with Monitor when episodes end and things are None\n",
        "        self.last_info = {}\n",
        "        self.last_obs = None\n",
        "\n",
        "    def _get_action_space_bounds(self):\n",
        "        box = self.env.action_space['anfer']\n",
        "        return box.low, box.high\n",
        "\n",
        "    def _format_action(self, action):\n",
        "        return { 'anfer': action[0] }\n",
        "\n",
        "    def _format_observation(self, observation):\n",
        "        return self.env.observation_dict_to_array(observation)\n",
        "\n",
        "    def reset(self):\n",
        "        return self._format_observation(self.env.reset())\n",
        "\n",
        "\n",
        "    def step(self, action):\n",
        "        # Rescale action from [-1, 1] to original action space interval\n",
        "        denormalized_action = denormalize_action((self.action_low, self.action_high), action)\n",
        "        formatted_action = self._format_action(denormalized_action)\n",
        "        obs, reward, done, info = self.env.step(formatted_action)\n",
        "\n",
        "        # handle `None`s in obs, reward, and info on done step\n",
        "        if done:\n",
        "            obs, reward, info = self.last_obs, 0, self.last_info\n",
        "        else:\n",
        "            self.last_obs = obs\n",
        "            self.last_info = info\n",
        "\n",
        "        formatted_observation = self._format_observation(obs)\n",
        "        return formatted_observation, reward, done, info\n",
        "\n",
        "    def close(self):\n",
        "        return self.env.close()\n",
        "\n",
        "    def eval(self):\n",
        "        self.env.set_evaluation()\n",
        "\n",
        "    def __del__(self):\n",
        "        self.close()"
      ],
      "metadata": {
        "id": "yfsS0Dgs-oh9"
      },
      "execution_count": 15,
      "outputs": []
    },
    {
      "cell_type": "code",
      "source": [
        "# Create environment\n",
        "env_args = {\n",
        "    'run_dssat_location': '/opt/dssat_pdi/run_dssat',\n",
        "    'mode': 'fertilization',\n",
        "    'seed': 123,\n",
        "    'random_weather': True,\n",
        "}\n",
        "\n",
        "env = Monitor(GymDssatWrapper(gym.make('GymDssatPdi-v0', **env_args)))"
      ],
      "metadata": {
        "id": "EXf6-ept-uFA"
      },
      "execution_count": 42,
      "outputs": []
    },
    {
      "cell_type": "code",
      "source": [
        "# Training arguments for PPO agent\n",
        "ppo_args = {\n",
        "    'seed': 123, # seed training for reproducibility\n",
        "}\n",
        "\n",
        "# Create the agent\n",
        "ppo_agent = PPO('MlpPolicy', env, **ppo_args)\n",
        "\n",
        "# Train for 10k timesteps\n",
        "print('Training PPO agent...')\n",
        "ppo_agent.learn(total_timesteps=1_000_000)\n",
        "print('Training done')"
      ],
      "metadata": {
        "id": "edY3O1g8wKrW",
        "outputId": "b8272cb1-2c36-42a6-9f9f-c07983c52d72",
        "colab": {
          "base_uri": "https://localhost:8080/"
        }
      },
      "execution_count": null,
      "outputs": [
        {
          "output_type": "stream",
          "name": "stdout",
          "text": [
            "Training PPO agent...\n"
          ]
        }
      ]
    },
    {
      "cell_type": "code",
      "source": [
        "# Baseline agents for comparison\n",
        "class NullAgent:\n",
        "    \"\"\"\n",
        "    Agent always choosing to do no fertilization\n",
        "    \"\"\"\n",
        "    def __init__(self, env):\n",
        "        self.env = env\n",
        "\n",
        "    def predict(self, obs, state=None, episode_start=None, deterministic=None):\n",
        "        action = normalize_action((self.env.action_low, self.env.action_high), [0])\n",
        "        return np.array([action], dtype=np.float32), obs\n",
        "\n",
        "\n",
        "class ExpertAgent:\n",
        "    \"\"\"\n",
        "    Simple agent using policy of choosing fertilization amount based on days after planting\n",
        "    \"\"\"\n",
        "    fertilization_dic = {\n",
        "        40: 27,\n",
        "        45: 35,\n",
        "        80: 54,\n",
        "    }\n",
        "\n",
        "    def __init__(self, env, normalize_action=False, fertilization_dic=None):\n",
        "        self.env = env\n",
        "        self.normalize_action = normalize_action\n",
        "\n",
        "    def _policy(self, obs):\n",
        "        dap = int(obs[0][0])\n",
        "        return [self.fertilization_dic[dap] if dap in self.fertilization_dic else 0]\n",
        "\n",
        "    def predict(self, obs, state=None, episode_start=None, deterministic=None):\n",
        "        action = self._policy(obs)\n",
        "        action = normalize_action((self.env.action_low, self.env.action_high), action)\n",
        "\n",
        "        return np.array([action], dtype=np.float32), obs"
      ],
      "metadata": {
        "id": "gaTvuZpbxH0b"
      },
      "execution_count": 18,
      "outputs": []
    },
    {
      "cell_type": "code",
      "source": [
        "#evaluation and plotting functions\n",
        "def evaluate(agent, n_episodes=10):\n",
        "    # Create eval env\n",
        "    eval_args = {\n",
        "        'run_dssat_location': '/opt/dssat_pdi/run_dssat',\n",
        "        'mode': 'fertilization',\n",
        "        'seed': 456,\n",
        "        'random_weather': True,\n",
        "    }\n",
        "    env = Monitor(GymDssatWrapper(gym.make('GymDssatPdi-v0', **eval_args)))\n",
        "\n",
        "    env.eval()\n",
        "\n",
        "    returns, _ = evaluate_policy(\n",
        "        agent, env, n_eval_episodes=n_episodes, return_episode_rewards=True)\n",
        "    \n",
        "    env.close()\n",
        "\n",
        "    return returns\n",
        "\n",
        "# evaluate agents\n",
        "null_agent = NullAgent(env)\n",
        "print('Evaluating Null agent...')\n",
        "null_returns = evaluate(null_agent)\n",
        "print('Done')\n",
        "print('Evaluating PPO agent...')\n",
        "ppo_returns = evaluate(ppo_agent)\n",
        "print('Done')\n",
        "\n",
        "expert_agent = ExpertAgent(env)\n",
        "print('Evaluating Expert agent...')\n",
        "expert_returns = evaluate(expert_agent)\n",
        "print('Done')\n",
        "\n",
        "# write results to a file to be loaded for display\n",
        "data = [('null', null_returns), ('ppo', ppo_returns), ('expert', expert_returns)]"
      ],
      "metadata": {
        "id": "x1WkUw5LxLJE",
        "outputId": "d4d30694-55c8-4dbe-8d4d-b00a8c7b248f",
        "colab": {
          "base_uri": "https://localhost:8080/"
        }
      },
      "execution_count": 39,
      "outputs": [
        {
          "output_type": "stream",
          "name": "stdout",
          "text": [
            "Evaluating Null agent...\n",
            "Done\n",
            "Evaluating PPO agent...\n",
            "Done\n",
            "Evaluating Expert agent...\n",
            "Done\n"
          ]
        }
      ]
    },
    {
      "cell_type": "code",
      "source": [
        "print(data)"
      ],
      "metadata": {
        "id": "4xsQW0b8xqts",
        "outputId": "d82b4bfc-20d1-4ad1-a117-73cf9a07d62b",
        "colab": {
          "base_uri": "https://localhost:8080/"
        }
      },
      "execution_count": 20,
      "outputs": [
        {
          "output_type": "stream",
          "name": "stdout",
          "text": [
            "[('null', [18.531383, 39.504473, 25.247784, 12.921924, 27.736828, 33.094987, 27.801615, 22.324037, 27.248838, 21.637032]), ('ppo', [-3617.106599, -3631.835692, -2720.693958, -3113.333642, -2607.002725, -2710.365303, -2666.040981, -2739.74646, -2498.462367, -2508.5281]), ('expert', [-17.135016, 89.029133, -21.516361, 20.419286, 45.225539, 68.01245, 50.628919, 5.32001, 35.758215, 63.789975])]\n"
          ]
        }
      ]
    },
    {
      "cell_type": "code",
      "source": [
        "import pickle\n",
        "import seaborn as sns\n",
        "import pandas as pd\n",
        "import matplotlib.pyplot as plt\n",
        "%matplotlib inline\n",
        "\n",
        "def plot_results(data):\n",
        "    data_dict = {}\n",
        "    for label, returns in data:\n",
        "        data_dict[label] = returns\n",
        "    df = pd.DataFrame(data_dict)\n",
        "    \n",
        "    ax = sns.boxplot(data=df)\n",
        "    ax.set_xlabel(\"policy\")\n",
        "    ax.set_ylabel(\"evaluation output\")\n",
        "    plt.show()"
      ],
      "metadata": {
        "id": "SFrrbyS6YQrX"
      },
      "execution_count": 40,
      "outputs": []
    },
    {
      "cell_type": "code",
      "source": [
        "plot_results(data)"
      ],
      "metadata": {
        "id": "YiB1_okJ6Ka0",
        "outputId": "94b4890b-0de5-4c17-90e0-bd9aa6b4c089",
        "colab": {
          "base_uri": "https://localhost:8080/",
          "height": 279
        }
      },
      "execution_count": 41,
      "outputs": [
        {
          "output_type": "display_data",
          "data": {
            "image/png": "[encoded data removed]",
            "text/plain": [
              "<Figure size 432x288 with 1 Axes>"
            ]
          },
          "metadata": {
            "needs_background": "light"
          }
        }
      ]
    },
    {
      "cell_type": "code",
      "source": [
        ""
      ],
      "metadata": {
        "id": "yEIGriMU6Pqd"
      },
      "execution_count": null,
      "outputs": []
    }
  ]
}