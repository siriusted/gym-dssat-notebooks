{
  "nbformat": 4,
  "nbformat_minor": 0,
  "metadata": {
    "colab": {
      "name": "Package installation on colab",
      "provenance": [],
      "authorship_tag": "ABX9TyNpSPobHKPLHtub4eBU/nlg",
      "include_colab_link": true
    },
    "kernelspec": {
      "name": "python3",
      "display_name": "Python 3"
    },
    "language_info": {
      "name": "python"
    }
  },
  "cells": [
    {
      "cell_type": "markdown",
      "metadata": {
        "id": "view-in-github",
        "colab_type": "text"
      },
      "source": [
        "<a href=\"https://colab.research.google.com/github/siriusted/gym-dssat-notebooks/blob/master/Package_installation_on_colab.ipynb\" target=\"_parent\"><img src=\"https://colab.research.google.com/assets/colab-badge.svg\" alt=\"Open In Colab\"/></a>"
      ]
    },
    {
      "cell_type": "code",
      "execution_count": 1,
      "metadata": {
        "id": "0EO6mXlZLpKH",
        "colab": {
          "base_uri": "https://localhost:8080/"
        },
        "outputId": "ae17ae2f-80f7-4de0-afea-48b55f1b9e9f"
      },
      "outputs": [
        {
          "output_type": "stream",
          "name": "stdout",
          "text": [
            "--2022-03-10 16:14:39--  https://raw.githubusercontent.com/pdidev/repo/ubuntu/pdidev-archive-keyring.gpg\n",
            "Resolving raw.githubusercontent.com (raw.githubusercontent.com)... 185.199.108.133, 185.199.109.133, 185.199.110.133, ...\n",
            "Connecting to raw.githubusercontent.com (raw.githubusercontent.com)|185.199.108.133|:443... connected.\n",
            "HTTP request sent, awaiting response... 200 OK\n",
            "Length: 1753 (1.7K) [application/octet-stream]\n",
            "Saving to: ‘/etc/apt/trusted.gpg.d/pdidev-archive-keyring.gpg’\n",
            "\n",
            "\r          /etc/apt/   0%[                    ]       0  --.-KB/s               \r/etc/apt/trusted.gp 100%[===================>]   1.71K  --.-KB/s    in 0s      \n",
            "\n",
            "2022-03-10 16:14:39 (19.1 MB/s) - ‘/etc/apt/trusted.gpg.d/pdidev-archive-keyring.gpg’ saved [1753/1753]\n",
            "\n"
          ]
        }
      ],
      "source": [
        "!echo \"deb [ arch=amd64 ] https://raw.githubusercontent.com/pdidev/repo/ubuntu bionic main\" | sudo tee /etc/apt/sources.list.d/pdi.list > /dev/null\n",
        "!wget -O /etc/apt/trusted.gpg.d/pdidev-archive-keyring.gpg https://raw.githubusercontent.com/pdidev/repo/ubuntu/pdidev-archive-keyring.gpg\n",
        "!chmod a+r /etc/apt/trusted.gpg.d/pdidev-archive-keyring.gpg /etc/apt/sources.list.d/pdi.list\n",
        "!apt update &> /dev/null\n",
        "!apt install pdidev-archive-keyring libpdi-dev &> /dev/null"
      ]
    },
    {
      "cell_type": "code",
      "source": [
        "!wget  http://gac.udc.es/~emilioj/bionic.tgz\n",
        "!tar -xf bionic.tgz\n",
        "!cd bionic/ && apt install `find . -name \"*.deb\"` &> /dev/null"
      ],
      "metadata": {
        "id": "zdKzu2AaMYsp"
      },
      "execution_count": null,
      "outputs": []
    },
    {
      "cell_type": "code",
      "source": [
        "!pip install stable-baselines3 &> /dev/null\n",
        "!pip install -U PyYAML &> /dev/null"
      ],
      "metadata": {
        "id": "uSyRCO333jgD",
        "colab": {
          "base_uri": "https://localhost:8080/",
          "height": 574
        },
        "outputId": "a4954908-0726-4763-9cc2-f100632a34c8"
      },
      "execution_count": 9,
      "outputs": [
        {
          "output_type": "stream",
          "name": "stdout",
          "text": [
            "Requirement already satisfied: stable-baselines3 in /usr/local/lib/python3.7/dist-packages (1.4.0)\n",
            "Requirement already satisfied: numpy in /usr/local/lib/python3.7/dist-packages (from stable-baselines3) (1.21.5)\n",
            "Requirement already satisfied: torch>=1.8.1 in /usr/local/lib/python3.7/dist-packages (from stable-baselines3) (1.10.0+cu111)\n",
            "Requirement already satisfied: pandas in /usr/local/lib/python3.7/dist-packages (from stable-baselines3) (1.3.5)\n",
            "Requirement already satisfied: gym<0.20,>=0.17 in /usr/local/lib/python3.7/dist-packages (from stable-baselines3) (0.17.3)\n",
            "Requirement already satisfied: cloudpickle in /usr/local/lib/python3.7/dist-packages (from stable-baselines3) (1.3.0)\n",
            "Requirement already satisfied: matplotlib in /usr/local/lib/python3.7/dist-packages (from stable-baselines3) (3.2.2)\n",
            "Requirement already satisfied: pyglet<=1.5.0,>=1.4.0 in /usr/local/lib/python3.7/dist-packages (from gym<0.20,>=0.17->stable-baselines3) (1.5.0)\n",
            "Requirement already satisfied: scipy in /usr/local/lib/python3.7/dist-packages (from gym<0.20,>=0.17->stable-baselines3) (1.4.1)\n",
            "Requirement already satisfied: future in /usr/local/lib/python3.7/dist-packages (from pyglet<=1.5.0,>=1.4.0->gym<0.20,>=0.17->stable-baselines3) (0.16.0)\n",
            "Requirement already satisfied: typing-extensions in /usr/local/lib/python3.7/dist-packages (from torch>=1.8.1->stable-baselines3) (3.10.0.2)\n",
            "Requirement already satisfied: python-dateutil>=2.1 in /usr/local/lib/python3.7/dist-packages (from matplotlib->stable-baselines3) (2.8.2)\n",
            "Requirement already satisfied: pyparsing!=2.0.4,!=2.1.2,!=2.1.6,>=2.0.1 in /usr/local/lib/python3.7/dist-packages (from matplotlib->stable-baselines3) (3.0.7)\n",
            "Requirement already satisfied: cycler>=0.10 in /usr/local/lib/python3.7/dist-packages (from matplotlib->stable-baselines3) (0.11.0)\n",
            "Requirement already satisfied: kiwisolver>=1.0.1 in /usr/local/lib/python3.7/dist-packages (from matplotlib->stable-baselines3) (1.3.2)\n",
            "Requirement already satisfied: six>=1.5 in /usr/local/lib/python3.7/dist-packages (from python-dateutil>=2.1->matplotlib->stable-baselines3) (1.15.0)\n",
            "Requirement already satisfied: pytz>=2017.3 in /usr/local/lib/python3.7/dist-packages (from pandas->stable-baselines3) (2018.9)\n",
            "Requirement already satisfied: PyYAML in /usr/local/lib/python3.7/dist-packages (3.13)\n",
            "Collecting PyYAML\n",
            "  Downloading PyYAML-6.0-cp37-cp37m-manylinux_2_5_x86_64.manylinux1_x86_64.manylinux_2_12_x86_64.manylinux2010_x86_64.whl (596 kB)\n",
            "\u001b[K     |████████████████████████████████| 596 kB 8.8 MB/s \n",
            "\u001b[?25hInstalling collected packages: PyYAML\n",
            "  Attempting uninstall: PyYAML\n",
            "    Found existing installation: PyYAML 3.13\n",
            "    Uninstalling PyYAML-3.13:\n",
            "      Successfully uninstalled PyYAML-3.13\n",
            "Successfully installed PyYAML-6.0\n"
          ]
        },
        {
          "output_type": "display_data",
          "data": {
            "application/vnd.colab-display-data+json": {
              "pip_warning": {
                "packages": [
                  "yaml"
                ]
              }
            }
          },
          "metadata": {}
        }
      ]
    },
    {
      "cell_type": "code",
      "source": [
        "import os\n",
        "\n",
        "os.environ[\"PATH\"] = \"/opt/gym_dssat_pdi/bin:\" + os.environ[\"PATH\"]\n",
        "os.environ[\"PYTHONPATH\"] = \"/opt/gym_dssat_pdi/lib/python3.7/site-packages/:\" + os.environ[\"PYTHONPATH\"]\n",
        "# os.environ[\"GYM_DSSAT_PDI_PATH\"] = \"/opt/gym_dssat_pdi/lib/python3.6/site-packages/gym_dssat_pdi\""
      ],
      "metadata": {
        "id": "gBuzyrmkPb-7"
      },
      "execution_count": 5,
      "outputs": []
    },
    {
      "cell_type": "code",
      "source": [
        "!python --version"
      ],
      "metadata": {
        "id": "nWenhrKZPjMc",
        "colab": {
          "base_uri": "https://localhost:8080/"
        },
        "outputId": "452b7e5c-e3f2-4e0c-824c-8592fc2d2468"
      },
      "execution_count": 3,
      "outputs": [
        {
          "output_type": "stream",
          "name": "stdout",
          "text": [
            "Python 3.7.12\n"
          ]
        }
      ]
    },
    {
      "cell_type": "code",
      "source": [
        "import sys\n",
        "\n",
        "sys.path.append('/opt/gym_dssat_pdi/lib/python3.7/site-packages')"
      ],
      "metadata": {
        "id": "ex3UofeBgXTc"
      },
      "execution_count": 1,
      "outputs": []
    },
    {
      "cell_type": "code",
      "source": [
        "import gym\n",
        "import gym_dssat_pdi\n",
        "import torch\n",
        "import numpy as np"
      ],
      "metadata": {
        "id": "5rhldkQA-llS"
      },
      "execution_count": 2,
      "outputs": []
    },
    {
      "cell_type": "code",
      "source": [
        "env_args = {\n",
        "            'run_dssat_location': '/opt/dssat_pdi/run_dssat',\n",
        "            'mode': 'fertilization',\n",
        "            'seed': 123456,\n",
        "            'random_weather': True,\n",
        "        }\n",
        "\n",
        "env = gym.make('gym_dssat_pdi:GymDssatPdi-v0', **env_args)"
      ],
      "metadata": {
        "id": "MdPHIffPRfq2"
      },
      "execution_count": 4,
      "outputs": []
    },
    {
      "cell_type": "code",
      "source": [
        "env.observation"
      ],
      "metadata": {
        "id": "BsLxrIELlhSM",
        "colab": {
          "base_uri": "https://localhost:8080/"
        },
        "outputId": "97be0f15-78dd-49ad-b919-01055e073ec6"
      },
      "execution_count": 5,
      "outputs": [
        {
          "output_type": "execute_result",
          "data": {
            "text/plain": [
              "{'dap': 4377089,\n",
              " 'dtt': 0.0,\n",
              " 'grnwt': 0.0,\n",
              " 'istage': 7,\n",
              " 'nstres': 0.0,\n",
              " 'pltpop': 7.199999809265137,\n",
              " 'rain': 0.10000000149011612,\n",
              " 'rtdep': 0.0,\n",
              " 'srad': 8.652971267700195,\n",
              " 'swfac': 0.0,\n",
              " 'tmax': 18.56235122680664,\n",
              " 'tmin': 6.544256687164307,\n",
              " 'topwt': 0.0,\n",
              " 'totaml': 0.0,\n",
              " 'vstage': 0.0,\n",
              " 'xlai': 0.0}"
            ]
          },
          "metadata": {},
          "execution_count": 5
        }
      ]
    },
    {
      "cell_type": "code",
      "source": [
        "env.close()"
      ],
      "metadata": {
        "id": "ThofkNPSobap"
      },
      "execution_count": 6,
      "outputs": []
    },
    {
      "cell_type": "code",
      "source": [
        "# helpers for action normalization\n",
        "def normalize_action(action_space_limits, action):\n",
        "    \"\"\"Normalize the action from [low, high] to [-1, 1]\"\"\"\n",
        "    low, high = action_space_limits\n",
        "    return 2.0 * ((action - low) / (high - low)) - 1.0\n",
        "\n",
        "def denormalize_action(action_space_limits, action):\n",
        "    \"\"\"Denormalize the action from [-1, 1] to [low, high]\"\"\"\n",
        "    low, high = action_space_limits\n",
        "    return low + (0.5 * (action + 1.0) * (high - low))\n",
        "\n",
        "# Wrapper for easy and uniform interfacing with SB3\n",
        "class GymDssatWrapper(gym.Wrapper):\n",
        "    def __init__(self, env):\n",
        "        super(GymDssatWrapper, self).__init__(env)\n",
        "\n",
        "        self.action_low, self.action_high = self._get_action_space_bounds()\n",
        "\n",
        "        # using a normalized action space\n",
        "        self.action_space = gym.spaces.Box(low=-1, high=1, shape=(1,), dtype=\"float32\")\n",
        "\n",
        "        # using a vector representation of observations to allow\n",
        "        # easily using SB3 MlpPolicy\n",
        "        self.observation_space = gym.spaces.Box(low=0.0,\n",
        "                                                high=np.inf,\n",
        "                                                shape=env.observation_dict_to_array(\n",
        "                                                    env.observation).shape,\n",
        "                                                dtype=\"float32\"\n",
        "                                                )\n",
        "\n",
        "        # to avoid annoying problem with Monitor when episodes end and things are None\n",
        "        self.last_info = {}\n",
        "        self.last_obs = None\n",
        "\n",
        "    def _get_action_space_bounds(self):\n",
        "        box = self.env.action_space['anfer']\n",
        "        return box.low, box.high\n",
        "\n",
        "    def _format_action(self, action):\n",
        "        return { 'anfer': action[0] }\n",
        "\n",
        "    def _format_observation(self, observation):\n",
        "        return self.env.observation_dict_to_array(observation)\n",
        "\n",
        "    def reset(self):\n",
        "        return self._format_observation(self.env.reset())\n",
        "\n",
        "\n",
        "    def step(self, action):\n",
        "        # Rescale action from [-1, 1] to original action space interval\n",
        "        denormalized_action = denormalize_action((self.action_low, self.action_high), action)\n",
        "        formatted_action = self._format_action(denormalized_action)\n",
        "        obs, reward, done, info = self.env.step(formatted_action)\n",
        "\n",
        "        # handle `None`s in obs, reward, and info on done step\n",
        "        if done:\n",
        "            obs, reward, info = self.last_obs, 0, self.last_info\n",
        "        else:\n",
        "            self.last_obs = obs\n",
        "            self.last_info = info\n",
        "\n",
        "        formatted_observation = self._format_observation(obs)\n",
        "        return formatted_observation, reward, done, info\n",
        "\n",
        "    def close(self):\n",
        "        return self.env.close()\n",
        "\n",
        "    def eval(self):\n",
        "        self.env.set_evaluation()\n",
        "\n",
        "    def __del__(self):\n",
        "        self.close()"
      ],
      "metadata": {
        "id": "yfsS0Dgs-oh9"
      },
      "execution_count": 7,
      "outputs": []
    },
    {
      "cell_type": "code",
      "source": [
        "from stable_baselines3 import PPO\n",
        "from stable_baselines3.common.monitor import Monitor\n",
        "\n",
        "# Create environment\n",
        "env_args = {\n",
        "    'run_dssat_location': '/opt/dssat_pdi/run_dssat',\n",
        "    'mode': 'fertilization',\n",
        "    'seed': 123,\n",
        "    'random_weather': True,\n",
        "}\n",
        "\n",
        "env = Monitor(GymDssatWrapper(gym.make('GymDssatPdi-v0', **env_args)))"
      ],
      "metadata": {
        "id": "EXf6-ept-uFA"
      },
      "execution_count": 8,
      "outputs": []
    },
    {
      "cell_type": "code",
      "source": [
        "# Training arguments for PPO agent\n",
        "ppo_args = {\n",
        "    'seed': 123, # seed training for reproducibility\n",
        "}\n",
        "\n",
        "# Create the agent\n",
        "ppo_agent = PPO('MlpPolicy', env, **ppo_args)\n",
        "\n",
        "# Train for 10k timesteps\n",
        "print('Training PPO agent...')\n",
        "ppo_agent.learn(total_timesteps=40_000)\n",
        "print('Training done')"
      ],
      "metadata": {
        "id": "edY3O1g8wKrW",
        "colab": {
          "base_uri": "https://localhost:8080/"
        },
        "outputId": "ae1771fc-17ac-45e1-e422-36b6b1a46c42"
      },
      "execution_count": 9,
      "outputs": [
        {
          "output_type": "stream",
          "name": "stdout",
          "text": [
            "Training PPO agent...\n",
            "Training done\n"
          ]
        }
      ]
    },
    {
      "cell_type": "code",
      "source": [
        "# Baseline agents for comparison\n",
        "class NullAgent:\n",
        "    \"\"\"\n",
        "    Agent always choosing to do no fertilization\n",
        "    \"\"\"\n",
        "    def __init__(self, env):\n",
        "        self.env = env\n",
        "\n",
        "    def predict(self, obs, state=None, episode_start=None, deterministic=None):\n",
        "        action = normalize_action((self.env.action_low, self.env.action_high), [0])\n",
        "        return np.array([action], dtype=np.float32), obs\n",
        "\n",
        "\n",
        "class ExpertAgent:\n",
        "    \"\"\"\n",
        "    Simple agent using policy of choosing fertilization amount based on days after planting\n",
        "    \"\"\"\n",
        "    fertilization_dic = {\n",
        "        40: 27,\n",
        "        45: 35,\n",
        "        80: 54,\n",
        "    }\n",
        "\n",
        "    def __init__(self, env, normalize_action=False, fertilization_dic=None):\n",
        "        self.env = env\n",
        "        self.normalize_action = normalize_action\n",
        "\n",
        "    def _policy(self, obs):\n",
        "        dap = int(obs[0][0])\n",
        "        return [self.fertilization_dic[dap] if dap in self.fertilization_dic else 0]\n",
        "\n",
        "    def predict(self, obs, state=None, episode_start=None, deterministic=None):\n",
        "        action = self._policy(obs)\n",
        "        action = normalize_action((self.env.action_low, self.env.action_high), action)\n",
        "\n",
        "        return np.array([action], dtype=np.float32), obs"
      ],
      "metadata": {
        "id": "gaTvuZpbxH0b"
      },
      "execution_count": 10,
      "outputs": []
    },
    {
      "cell_type": "code",
      "source": [
        "from stable_baselines3.common.evaluation import evaluate_policy\n",
        "\n",
        "#evaluation and plotting functions\n",
        "def evaluate(agent, n_episodes=10):\n",
        "    # Create eval env\n",
        "    eval_args = {\n",
        "        'run_dssat_location': '/opt/dssat_pdi/run_dssat',\n",
        "        'mode': 'fertilization',\n",
        "        'seed': 456,\n",
        "        'random_weather': True,\n",
        "    }\n",
        "    env = Monitor(GymDssatWrapper(gym.make('GymDssatPdi-v0', **eval_args)))\n",
        "\n",
        "    env.eval()\n",
        "\n",
        "    returns, _ = evaluate_policy(\n",
        "        agent, env, n_eval_episodes=n_episodes, return_episode_rewards=True)\n",
        "    \n",
        "    env.close()\n",
        "\n",
        "    return returns\n",
        "\n",
        "# evaluate agents\n",
        "null_agent = NullAgent(env)\n",
        "print('Evaluating Null agent...')\n",
        "null_returns = evaluate(null_agent)\n",
        "print('Done')\n",
        "print('Evaluating PPO agent...')\n",
        "ppo_returns = evaluate(ppo_agent)\n",
        "print('Done')\n",
        "\n",
        "expert_agent = ExpertAgent(env)\n",
        "print('Evaluating Expert agent...')\n",
        "expert_returns = evaluate(expert_agent)\n",
        "print('Done')\n",
        "\n",
        "# write results to a file to be loaded for display\n",
        "data = [('null', null_returns), ('ppo', ppo_returns), ('expert', expert_returns)]"
      ],
      "metadata": {
        "id": "x1WkUw5LxLJE",
        "colab": {
          "base_uri": "https://localhost:8080/"
        },
        "outputId": "f95fbc00-f4b9-4221-b638-e21bbf1df871"
      },
      "execution_count": 11,
      "outputs": [
        {
          "output_type": "stream",
          "name": "stdout",
          "text": [
            "Evaluating Null agent...\n",
            "Done\n",
            "Evaluating PPO agent...\n",
            "Done\n",
            "Evaluating Expert agent...\n",
            "Done\n"
          ]
        }
      ]
    },
    {
      "cell_type": "code",
      "source": [
        "print(data)"
      ],
      "metadata": {
        "id": "4xsQW0b8xqts"
      },
      "execution_count": null,
      "outputs": []
    },
    {
      "cell_type": "code",
      "source": [
        "import pickle\n",
        "import seaborn as sns\n",
        "import pandas as pd\n",
        "import matplotlib.pyplot as plt\n",
        "%matplotlib inline\n",
        "\n",
        "def plot_results(data):\n",
        "    data_dict = {}\n",
        "    for label, returns in data:\n",
        "        data_dict[label] = returns\n",
        "    df = pd.DataFrame(data_dict)\n",
        "    \n",
        "    ax = sns.boxplot(data=df)\n",
        "    ax.set_xlabel(\"policy\")\n",
        "    ax.set_ylabel(\"evaluation output\")\n",
        "    plt.show()"
      ],
      "metadata": {
        "id": "SFrrbyS6YQrX"
      },
      "execution_count": 12,
      "outputs": []
    },
    {
      "cell_type": "code",
      "source": [
        "plot_results(data)"
      ],
      "metadata": {
        "colab": {
          "base_uri": "https://localhost:8080/",
          "height": 279
        },
        "id": "YiB1_okJ6Ka0",
        "outputId": "919f79a4-9253-49ab-e955-1e1201089877"
      },
      "execution_count": 13,
      "outputs": [
        {
          "output_type": "display_data",
          "data": {
            "image/png": "[encoded data removed]",
            "text/plain": [
              "<Figure size 432x288 with 1 Axes>"
            ]
          },
          "metadata": {
            "needs_background": "light"
          }
        }
      ]
    },
    {
      "cell_type": "markdown",
      "source": [
        "## Bonus: Saving best performing model\n",
        "\n",
        "In this section, we will use a feature from stable-baselines3 known as `callbacks`. They enable different kind of operations during the training of a model. For our purpose here, we will use the `EvalCallback` to periodically evaluate and save the best performing model we find during training.\n",
        "\n",
        "For more on callbacks in stable-baselines3 see [here](https://stable-baselines3.readthedocs.io/en/master/guide/callbacks.html)"
      ],
      "metadata": {
        "id": "xRJsLed7jU0H"
      }
    },
    {
      "cell_type": "code",
      "source": [
        "from stable_baselines3.common.callbacks import EvalCallback\n",
        "\n",
        "env = Monitor(GymDssatWrapper(gym.make('GymDssatPdi-v0', **env_args)))\n",
        "\n",
        "\n",
        "# Create the agent\n",
        "ppo_agent = PPO('MlpPolicy', env, **ppo_args)\n",
        "\n",
        "# path to save best model found\n",
        "path = 'ppo'\n",
        "\n",
        "# eval callback\n",
        "eval_freq = 1000\n",
        "eval_env_args = {**env_args, 'seed': 345}\n",
        "eval_env = Monitor(GymDssatWrapper(gym.make('GymDssatPdi-v0', **eval_env_args)))\n",
        "eval_callback = EvalCallback(eval_env,\n",
        "                                eval_freq=eval_freq,\n",
        "                                best_model_save_path=f'./{path}',\n",
        "                                deterministic=True)\n",
        "\n",
        "\n",
        "# Train\n",
        "print('Training PPO agent...')\n",
        "ppo_agent.learn(total_timesteps=50_000, callback=eval_callback)\n",
        "ppo_agent.save(f'./{path}/final_model')\n",
        "print('Training done')"
      ],
      "metadata": {
        "colab": {
          "base_uri": "https://localhost:8080/"
        },
        "id": "fbOvVk-WFte6",
        "outputId": "44ebaecf-ad65-4d7f-e4bf-a420df934552"
      },
      "execution_count": 14,
      "outputs": [
        {
          "output_type": "stream",
          "name": "stdout",
          "text": [
            "Training PPO agent...\n",
            "Eval num_timesteps=1000, episode_reward=-8572.75 +/- 2094.55\n",
            "Episode length: 153.40 +/- 2.42\n",
            "New best mean reward!\n",
            "Eval num_timesteps=2000, episode_reward=-8757.15 +/- 1849.20\n",
            "Episode length: 156.60 +/- 2.33\n",
            "Eval num_timesteps=3000, episode_reward=-7420.59 +/- 1541.66\n",
            "Episode length: 156.20 +/- 1.47\n",
            "New best mean reward!\n",
            "Eval num_timesteps=4000, episode_reward=-7275.33 +/- 1375.06\n",
            "Episode length: 158.20 +/- 1.47\n",
            "New best mean reward!\n",
            "Eval num_timesteps=5000, episode_reward=-5932.76 +/- 1409.70\n",
            "Episode length: 156.00 +/- 6.42\n",
            "New best mean reward!\n",
            "Eval num_timesteps=6000, episode_reward=-5485.42 +/- 385.85\n",
            "Episode length: 158.40 +/- 2.65\n",
            "New best mean reward!\n",
            "Eval num_timesteps=7000, episode_reward=-5259.26 +/- 1081.93\n",
            "Episode length: 156.60 +/- 1.62\n",
            "New best mean reward!\n",
            "Eval num_timesteps=8000, episode_reward=-5101.42 +/- 1905.51\n",
            "Episode length: 154.40 +/- 4.72\n",
            "New best mean reward!\n",
            "Eval num_timesteps=9000, episode_reward=-3558.30 +/- 581.78\n",
            "Episode length: 155.20 +/- 5.42\n",
            "New best mean reward!\n",
            "Eval num_timesteps=10000, episode_reward=-4007.84 +/- 527.86\n",
            "Episode length: 154.20 +/- 2.48\n",
            "Eval num_timesteps=11000, episode_reward=-2874.74 +/- 715.74\n",
            "Episode length: 157.00 +/- 5.48\n",
            "New best mean reward!\n",
            "Eval num_timesteps=12000, episode_reward=-3263.15 +/- 826.63\n",
            "Episode length: 159.80 +/- 3.54\n",
            "Eval num_timesteps=13000, episode_reward=-2669.57 +/- 1092.00\n",
            "Episode length: 157.60 +/- 4.50\n",
            "New best mean reward!\n",
            "Eval num_timesteps=14000, episode_reward=-2602.03 +/- 799.36\n",
            "Episode length: 155.40 +/- 2.87\n",
            "New best mean reward!\n",
            "Eval num_timesteps=15000, episode_reward=-1200.34 +/- 155.62\n",
            "Episode length: 154.40 +/- 2.65\n",
            "New best mean reward!\n",
            "Eval num_timesteps=16000, episode_reward=-1430.53 +/- 314.83\n",
            "Episode length: 158.40 +/- 3.38\n",
            "Eval num_timesteps=17000, episode_reward=-1015.99 +/- 144.96\n",
            "Episode length: 159.20 +/- 2.93\n",
            "New best mean reward!\n",
            "Eval num_timesteps=18000, episode_reward=-971.91 +/- 207.00\n",
            "Episode length: 158.20 +/- 3.43\n",
            "New best mean reward!\n",
            "Eval num_timesteps=19000, episode_reward=-397.48 +/- 69.40\n",
            "Episode length: 157.20 +/- 2.04\n",
            "New best mean reward!\n",
            "Eval num_timesteps=20000, episode_reward=-409.22 +/- 135.13\n",
            "Episode length: 159.00 +/- 3.85\n",
            "Eval num_timesteps=21000, episode_reward=-199.40 +/- 118.67\n",
            "Episode length: 155.40 +/- 1.74\n",
            "New best mean reward!\n",
            "Eval num_timesteps=22000, episode_reward=-214.89 +/- 41.78\n",
            "Episode length: 159.00 +/- 3.16\n",
            "Eval num_timesteps=23000, episode_reward=-133.75 +/- 23.52\n",
            "Episode length: 157.80 +/- 3.06\n",
            "New best mean reward!\n",
            "Eval num_timesteps=24000, episode_reward=-148.52 +/- 25.89\n",
            "Episode length: 161.20 +/- 3.76\n",
            "Eval num_timesteps=25000, episode_reward=-27.62 +/- 27.93\n",
            "Episode length: 158.00 +/- 2.28\n",
            "New best mean reward!\n",
            "Eval num_timesteps=26000, episode_reward=-52.82 +/- 27.97\n",
            "Episode length: 156.80 +/- 4.75\n",
            "Eval num_timesteps=27000, episode_reward=28.20 +/- 13.79\n",
            "Episode length: 156.80 +/- 3.19\n",
            "New best mean reward!\n",
            "Eval num_timesteps=28000, episode_reward=-1.50 +/- 36.81\n",
            "Episode length: 152.60 +/- 4.63\n",
            "Eval num_timesteps=29000, episode_reward=22.23 +/- 13.78\n",
            "Episode length: 160.00 +/- 2.19\n",
            "Eval num_timesteps=30000, episode_reward=25.43 +/- 12.03\n",
            "Episode length: 158.60 +/- 5.54\n",
            "Eval num_timesteps=31000, episode_reward=28.23 +/- 9.49\n",
            "Episode length: 158.20 +/- 1.33\n",
            "New best mean reward!\n",
            "Eval num_timesteps=32000, episode_reward=31.25 +/- 11.90\n",
            "Episode length: 158.40 +/- 1.36\n",
            "New best mean reward!\n",
            "Eval num_timesteps=33000, episode_reward=32.63 +/- 17.59\n",
            "Episode length: 156.80 +/- 3.82\n",
            "New best mean reward!\n",
            "Eval num_timesteps=34000, episode_reward=21.96 +/- 12.08\n",
            "Episode length: 154.20 +/- 3.76\n",
            "Eval num_timesteps=35000, episode_reward=33.30 +/- 7.19\n",
            "Episode length: 157.00 +/- 2.53\n",
            "New best mean reward!\n",
            "Eval num_timesteps=36000, episode_reward=23.07 +/- 6.97\n",
            "Episode length: 158.40 +/- 2.65\n",
            "Eval num_timesteps=37000, episode_reward=38.25 +/- 6.15\n",
            "Episode length: 158.60 +/- 5.43\n",
            "New best mean reward!\n",
            "Eval num_timesteps=38000, episode_reward=28.42 +/- 12.16\n",
            "Episode length: 156.60 +/- 1.85\n",
            "Eval num_timesteps=39000, episode_reward=21.02 +/- 15.83\n",
            "Episode length: 158.60 +/- 4.63\n",
            "Eval num_timesteps=40000, episode_reward=17.34 +/- 9.79\n",
            "Episode length: 156.40 +/- 3.38\n",
            "Eval num_timesteps=41000, episode_reward=23.62 +/- 7.81\n",
            "Episode length: 155.00 +/- 3.29\n",
            "Eval num_timesteps=42000, episode_reward=33.70 +/- 7.95\n",
            "Episode length: 152.80 +/- 2.32\n",
            "Eval num_timesteps=43000, episode_reward=27.11 +/- 9.96\n",
            "Episode length: 157.20 +/- 2.32\n",
            "Eval num_timesteps=44000, episode_reward=15.38 +/- 14.93\n",
            "Episode length: 138.60 +/- 44.23\n",
            "Eval num_timesteps=45000, episode_reward=26.47 +/- 5.66\n",
            "Episode length: 160.00 +/- 2.53\n",
            "Eval num_timesteps=46000, episode_reward=33.06 +/- 17.89\n",
            "Episode length: 156.00 +/- 3.63\n",
            "Eval num_timesteps=47000, episode_reward=27.39 +/- 9.15\n",
            "Episode length: 156.20 +/- 3.19\n",
            "Eval num_timesteps=48000, episode_reward=27.41 +/- 4.94\n",
            "Episode length: 156.20 +/- 4.40\n",
            "Eval num_timesteps=49000, episode_reward=32.08 +/- 4.92\n",
            "Episode length: 157.80 +/- 4.71\n",
            "Eval num_timesteps=50000, episode_reward=26.51 +/- 6.71\n",
            "Episode length: 158.00 +/- 6.00\n",
            "Eval num_timesteps=51000, episode_reward=42.26 +/- 1.16\n",
            "Episode length: 157.60 +/- 2.58\n",
            "New best mean reward!\n",
            "Training done\n"
          ]
        }
      ]
    },
    {
      "cell_type": "code",
      "source": [
        "# evaluate agents\n",
        "null_agent = NullAgent(env)\n",
        "print('Evaluating Null agent...')\n",
        "null_returns = evaluate(null_agent)\n",
        "print('Done')\n",
        "\n",
        "print('Evaluating PPO agents...')\n",
        "ppo_best = PPO.load(f'./{path}/best_model')\n",
        "ppo_best_returns = evaluate(ppo_best)\n",
        "ppo_returns = evaluate(ppo_agent)\n",
        "print('Done')\n",
        "\n",
        "expert_agent = ExpertAgent(env)\n",
        "print('Evaluating Expert agent...')\n",
        "expert_returns = evaluate(expert_agent)\n",
        "print('Done')\n",
        "\n",
        "# write results to a file to be loaded for display\n",
        "results = [('null', null_returns), ('ppo(best)', ppo_best_returns),  ('ppo(final)', ppo_returns), ('expert', expert_returns)]"
      ],
      "metadata": {
        "id": "RnQHnRq1tUFf",
        "outputId": "54f104dc-b2ad-4a4f-8213-4d5a6f8f105b",
        "colab": {
          "base_uri": "https://localhost:8080/"
        }
      },
      "execution_count": 15,
      "outputs": [
        {
          "output_type": "stream",
          "name": "stdout",
          "text": [
            "Evaluating Null agent...\n",
            "Done\n",
            "Evaluating PPO agents...\n",
            "Done\n",
            "Evaluating Expert agent...\n",
            "Done\n"
          ]
        }
      ]
    },
    {
      "cell_type": "code",
      "source": [
        "plot_results(results)"
      ],
      "metadata": {
        "id": "UZxMsJCft2U8",
        "outputId": "18c2e58f-db35-4a2d-d52d-9174e043d378",
        "colab": {
          "base_uri": "https://localhost:8080/",
          "height": 279
        }
      },
      "execution_count": 16,
      "outputs": [
        {
          "output_type": "display_data",
          "data": {
            "image/png": "[encoded data removed]",
            "text/plain": [
              "<Figure size 432x288 with 1 Axes>"
            ]
          },
          "metadata": {
            "needs_background": "light"
          }
        }
      ]
    },
    {
      "cell_type": "code",
      "source": [
        ""
      ],
      "metadata": {
        "id": "Rwl6xZvwu-hr"
      },
      "execution_count": null,
      "outputs": []
    }
  ]
}