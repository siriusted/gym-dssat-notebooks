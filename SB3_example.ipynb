{
  "nbformat": 4,
  "nbformat_minor": 0,
  "metadata": {
    "colab": {
      "name": "SB3_example.ipynb",
      "provenance": [],
      "collapsed_sections": [],
      "authorship_tag": "ABX9TyPBy3rrxHEeFa3O/2zLkd73",
      "include_colab_link": true
    },
    "kernelspec": {
      "name": "python3",
      "display_name": "Python 3"
    },
    "language_info": {
      "name": "python"
    }
  },
  "cells": [
    {
      "cell_type": "markdown",
      "metadata": {
        "id": "view-in-github",
        "colab_type": "text"
      },
      "source": [
        "<a href=\"https://colab.research.google.com/github/siriusted/gym-dssat-notebooks/blob/master/SB3_example.ipynb\" target=\"_parent\"><img src=\"https://colab.research.google.com/assets/colab-badge.svg\" alt=\"Open In Colab\"/></a>"
      ]
    },
    {
      "cell_type": "markdown",
      "source": [
        "# Gym-DSSAT x Stable-Baselines3 Tutorial\n",
        "\n",
        "Welcome to a brief introduction to using gym-dssat with stable-baselines3.\n",
        "\n",
        "For a background or more details about using stable-baselines3 for reinforcement learning, please take a look [here](https://github.com/araffin/rl-tutorial-jnrr19/tree/sb3)\n",
        "\n",
        "In this notebook, we will assume familiarity with reinforcement learning and stable-baselines3. Thus the focus is on interacting with gym-dssat using SB3.\n",
        "\n",
        "Next we proceed with installations\n",
        "\n",
        "**Note**: It will take a while\n",
        "\n",
        "# Installation\n",
        "\n",
        "- gym-dssat"
      ],
      "metadata": {
        "id": "10LKppXsZa-N"
      }
    },
    {
      "cell_type": "code",
      "source": [
        "# install system dependencies\n",
        "!apt-get update &> /dev/null\n",
        "!apt-get install python3.7-dev python3.7-venv &> /dev/null\n",
        "!wget http://pyyaml.org/download/libyaml/yaml-0.2.5.tar.gz &> /dev/null\n",
        "!tar -xf yaml-0.2.5.tar.gz &> /dev/null \n",
        "!cd yaml-0.2.5 && ./configure &> /dev/null && make &> /dev/null && make install &> /dev/null\n",
        "\n",
        "\n",
        "# install pip dependencies \n",
        "# only need gym==0.18.3, pyyaml > 5.1\n",
        "!pip install gym==0.18.3 &> /dev/null\n",
        "!pip install -U PyYAML &> /dev/null\n",
        "\n",
        "\n",
        "# install pdi\n",
        "!git clone https://gitlab.maisondelasimulation.fr/pdidev/pdi.git &> /dev/null\n",
        "!mkdir pdi/build && cd pdi/build && cmake -DCMAKE_INSTALL_PREFIX='/opt/pdi' \\\n",
        "    -DDIST_PROFILE=User \\\n",
        "    -DCMAKE_VERBOSE_MAKEFILE=ON \\\n",
        "    -DBUILD_CFG_VALIDATOR=OFF \\\n",
        "    -DBUILD_DECL_HDF5_PLUGIN=OFF \\\n",
        "    -DBUILD_DECL_NETCDF_PLUGIN=OFF \\\n",
        "    -DBUILD_DECL_SION_PLUGIN=OFF \\\n",
        "    -DBUILD_FLOWVR_PLUGIN=OFF \\\n",
        "    -DBUILD_FORTRAN=ON \\\n",
        "    -DBUILD_FTI_PLUGIN=OFF \\\n",
        "    -DBUILD_HDF5_PARALLEL=OFF \\\n",
        "    -DBUILD_MPI_PLUGIN=OFF \\\n",
        "    -DBUILD_PYCALL_PLUGIN=ON \\\n",
        "    -DBUILD_PYTHON=ON \\\n",
        "    -DBUILD_SET_VALUE_PLUGIN=ON \\\n",
        "    -DBUILD_SERIALIZE_PLUGIN=ON \\\n",
        "    -DBUILD_SHARED_LIBS=ON \\\n",
        "    -DBUILD_TEST_PLUGIN=OFF \\\n",
        "    -DBUILD_TRACE_PLUGIN=ON \\\n",
        "    -DBUILD_USER_CODE_PLUGIN=ON \\\n",
        "    -DUSE_DEFAULT=EMBEDDED .. &> /dev/null\n",
        "\n",
        "!cd pdi/build && make install &> /dev/null\n",
        "\n",
        "\n",
        "# install dssat-pdi\n",
        "!git clone --recurse-submodules https://gitlab.inria.fr/rgautron/gym_dssat_pdi.git &> /dev/null\n",
        "!cd gym_dssat_pdi/dssat-csm-os && mkdir build && cd build \\\n",
        "    && cmake -DCMAKE_INSTALL_PREFIX='/opt/dssat_pdi' -DUSE_DEFAULT=EMBEDDED -DCMAKE_PREFIX_PATH='/opt/pdi/share/paraconf/cmake;/opt/pdi/share/pdi/cmake' .. &> /dev/null\n",
        "!cd gym_dssat_pdi/dssat-csm-os/build && make &> /dev/null && make install &> /dev/null\n",
        "!cd gym_dssat_pdi/dssat-csm-data &&  cp -r ./* /opt/dssat_pdi\n",
        "\n",
        "\n",
        "# install gym-dssat\n",
        "!cd gym_dssat_pdi/gym-dssat-pdi/ && pip install -e . &> /dev/null"
      ],
      "metadata": {
        "id": "UxFEACyRZ162"
      },
      "execution_count": null,
      "outputs": []
    },
    {
      "cell_type": "markdown",
      "source": [
        "- Stable-Baselines3\n"
      ],
      "metadata": {
        "id": "h5TIKESJZ-8v"
      }
    },
    {
      "cell_type": "code",
      "source": [
        "!pip install stable-baselines3[extra] &> /dev/null"
      ],
      "metadata": {
        "id": "pfcavgr7aDS_"
      },
      "execution_count": null,
      "outputs": []
    },
    {
      "cell_type": "markdown",
      "source": [
        "All set! \n",
        "\n",
        "Next, we will train a PPO agent using stable-baselines3. This agent will be compared to two hardcoded agents, namely a Null agent and an Expert agent.\n",
        "\n",
        "Also, to use gym-dssat properly, we need to run commands using `pdirun`. As a result, the source code for the rest of the tutorial has been collected into a script, which we will fetch next, then run. "
      ],
      "metadata": {
        "id": "N6Z_eE-8aUfG"
      }
    },
    {
      "cell_type": "code",
      "source": [
        "!wget https://raw.githubusercontent.com/siriusted/gym-dssat-notebooks/master/sb_example.py"
      ],
      "metadata": {
        "id": "NlJ1N6earVmd"
      },
      "execution_count": null,
      "outputs": []
    },
    {
      "cell_type": "markdown",
      "source": [
        "Run example. Note that this will take some time. You can take a look at `sb_example.py` in the file browser here on colab"
      ],
      "metadata": {
        "id": "xBP1l9AFp5dy"
      }
    },
    {
      "cell_type": "code",
      "source": [
        "!/opt/pdi/bin/pdirun python sb_example.py"
      ],
      "metadata": {
        "id": "lSElUXBegk4W"
      },
      "execution_count": null,
      "outputs": []
    },
    {
      "cell_type": "markdown",
      "source": [
        "Next, we will load and display the results from the script which have been stored in `results.pkl`"
      ],
      "metadata": {
        "id": "WI0XHJPEYBf9"
      }
    },
    {
      "cell_type": "code",
      "source": [
        "import pickle\n",
        "import seaborn as sns\n",
        "import pandas as pd\n",
        "import matplotlib.pyplot as plt\n",
        "\n",
        "def plot_results(data):\n",
        "    data_dict = {}\n",
        "    for label, returns in data:\n",
        "        data_dict[label] = returns\n",
        "    df = pd.DataFrame(data_dict)\n",
        "    \n",
        "    ax = sns.boxplot(data=df)\n",
        "    ax.set_xlabel(\"policy\")\n",
        "    ax.set_ylabel(\"evaluation output\")\n",
        "    plt.show()\n",
        "\n",
        "with open(\"results.pkl\", \"rb\") as result_file:\n",
        "    results = pickle.load(result_file)"
      ],
      "metadata": {
        "id": "SFrrbyS6YQrX"
      },
      "execution_count": null,
      "outputs": []
    },
    {
      "cell_type": "code",
      "source": [
        "plot_results(results)"
      ],
      "metadata": {
        "id": "7Tb6NmyRYZNx"
      },
      "execution_count": null,
      "outputs": []
    },
    {
      "cell_type": "markdown",
      "source": [
        "All done! Go ahead and edit `sb_example.py` in the integrated editor, then re-run the code cell above to observe results"
      ],
      "metadata": {
        "id": "AMTb6PMOuh53"
      }
    }
  ]
}