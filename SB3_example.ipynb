{
  "nbformat": 4,
  "nbformat_minor": 0,
  "metadata": {
    "colab": {
      "name": "SB3_example.ipynb",
      "provenance": [],
      "collapsed_sections": [],
      "authorship_tag": "ABX9TyNoa3PdBbW8e595dNjIOnrL",
      "include_colab_link": true
    },
    "kernelspec": {
      "name": "python3",
      "display_name": "Python 3"
    },
    "language_info": {
      "name": "python"
    }
  },
  "cells": [
    {
      "cell_type": "markdown",
      "metadata": {
        "id": "view-in-github",
        "colab_type": "text"
      },
      "source": [
        "<a href=\"https://colab.research.google.com/github/siriusted/gym-dssat-notebooks/blob/master/SB3_example.ipynb\" target=\"_parent\"><img src=\"https://colab.research.google.com/assets/colab-badge.svg\" alt=\"Open In Colab\"/></a>"
      ]
    },
    {
      "cell_type": "markdown",
      "source": [
        "# Gym-DSSAT x Stable-Baselines3 Tutorial\n",
        "\n",
        "Welcome to a brief introduction to using gym-dssat with stable-baselines3.\n",
        "\n",
        "For a background or more details about using stable-baselines3 for reinforcement learning, please take a look [here](https://github.com/araffin/rl-tutorial-jnrr19/tree/sb3)\n",
        "\n",
        "In this notebook, we will assume familiarity with reinforcement learning and stable-baselines3. Thus the focus is on interacting with gym-dssat using SB3.\n",
        "\n",
        "Next we proceed with installations\n",
        "\n",
        "**Note**: It will take a while\n",
        "\n",
        "# Installation\n",
        "- gym_dssat"
      ],
      "metadata": {
        "id": "10LKppXsZa-N"
      }
    },
    {
      "cell_type": "code",
      "source": [
        "!wget https://raw.githubusercontent.com/siriusted/gym-dssat-notebooks/master/install.sh\n",
        "!chmod u+x install.sh\n",
        "!./install.sh"
      ],
      "metadata": {
        "id": "UxFEACyRZ162"
      },
      "execution_count": null,
      "outputs": []
    },
    {
      "cell_type": "markdown",
      "source": [
        "- stable_baselines3"
      ],
      "metadata": {
        "id": "vzq7QeYz3fbZ"
      }
    },
    {
      "cell_type": "code",
      "source": [
        "!pip install stable-baselines3[extra] &> /dev/null"
      ],
      "metadata": {
        "id": "uSyRCO333jgD"
      },
      "execution_count": null,
      "outputs": []
    },
    {
      "cell_type": "markdown",
      "source": [
        "All set! \n",
        "\n",
        "Next, we will train a PPO agent using stable-baselines3. This agent will be compared to two hardcoded agents, namely a Null agent and an Expert agent.\n",
        "\n",
        "To use gym-dssat properly, we need to run commands using `pdirun`. As a result, the source code for the rest of the tutorial has been collected into a script, which we will fetch next, then run. \n",
        "\n",
        "Additionally, we will fetch a pretrained model that is also evaluated in the script."
      ],
      "metadata": {
        "id": "N6Z_eE-8aUfG"
      }
    },
    {
      "cell_type": "code",
      "source": [
        "!wget https://raw.githubusercontent.com/siriusted/gym-dssat-notebooks/master/sb_example.py\n",
        "!wget https://raw.githubusercontent.com/siriusted/gym-dssat-notebooks/master/pretrained_model.zip"
      ],
      "metadata": {
        "id": "NlJ1N6earVmd"
      },
      "execution_count": null,
      "outputs": []
    },
    {
      "cell_type": "markdown",
      "source": [
        "Run example. Note that this will take some time. You can take a look at `sb_example.py` in the file browser here on colab"
      ],
      "metadata": {
        "id": "xBP1l9AFp5dy"
      }
    },
    {
      "cell_type": "code",
      "source": [
        "!/opt/pdi/bin/pdirun python sb_example.py"
      ],
      "metadata": {
        "id": "lSElUXBegk4W"
      },
      "execution_count": null,
      "outputs": []
    },
    {
      "cell_type": "markdown",
      "source": [
        "Next, we will load and display the results from the script which have been stored in `results.pkl`"
      ],
      "metadata": {
        "id": "WI0XHJPEYBf9"
      }
    },
    {
      "cell_type": "code",
      "source": [
        "import pickle\n",
        "import seaborn as sns\n",
        "import pandas as pd\n",
        "import matplotlib.pyplot as plt\n",
        "\n",
        "def plot_results(data):\n",
        "    data_dict = {}\n",
        "    for label, returns in data:\n",
        "        data_dict[label] = returns\n",
        "    df = pd.DataFrame(data_dict)\n",
        "    \n",
        "    ax = sns.boxplot(data=df)\n",
        "    ax.set_xlabel(\"policy\")\n",
        "    ax.set_ylabel(\"evaluation output\")\n",
        "    plt.show()\n",
        "\n",
        "with open(\"results.pkl\", \"rb\") as result_file:\n",
        "    results = pickle.load(result_file)"
      ],
      "metadata": {
        "id": "SFrrbyS6YQrX"
      },
      "execution_count": null,
      "outputs": []
    },
    {
      "cell_type": "code",
      "source": [
        "plot_results(results)"
      ],
      "metadata": {
        "id": "7Tb6NmyRYZNx"
      },
      "execution_count": null,
      "outputs": []
    },
    {
      "cell_type": "markdown",
      "source": [
        "All done! Go ahead and edit `sb_example.py` in the integrated editor, then re-run the code cell above to observe results"
      ],
      "metadata": {
        "id": "AMTb6PMOuh53"
      }
    }
  ]
}